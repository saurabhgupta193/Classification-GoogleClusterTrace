{
  "cells": [
    {
      "cell_type": "code",
      "execution_count": 1,
      "metadata": {
        "id": "jO6iuWl5bPJS"
      },
      "outputs": [],
      "source": [
        "import pandas as pd\n",
        "import numpy as np\n",
        "import matplotlib.pyplot as plt\n",
        "from sklearn.model_selection import train_test_split\n",
        "from sklearn.preprocessing import MinMaxScaler, StandardScaler\n",
        "from sklearn.preprocessing import LabelEncoder, StandardScaler\n",
        "\n",
        "import tensorflow as tf\n",
        "from tensorflow import keras\n",
        "from keras.preprocessing import sequence\n",
        "from keras.models import Sequential\n",
        "from tensorflow.keras.preprocessing.text import Tokenizer\n",
        "from tensorflow.keras.preprocessing.sequence import pad_sequences, TimeseriesGenerator\n",
        "from tensorflow.keras import Sequential, layers, callbacks\n",
        "from tensorflow.keras.layers import Dense, Embedding, LSTM, Dropout, GRU, Bidirectional, LeakyReLU\n",
        "\n",
        "from scipy import stats\n",
        "%matplotlib inline\n",
        "\n",
        "\n"
      ]
    },
    {
      "cell_type": "code",
      "execution_count": 2,
      "metadata": {
        "colab": {
          "base_uri": "https://localhost:8080/"
        },
        "id": "tuDip1HjIKi4",
        "outputId": "249edc12-bc5c-4508-e785-95ce28437a81"
      },
      "outputs": [
        {
          "output_type": "stream",
          "name": "stdout",
          "text": [
            "Mounted at /content/drive\n"
          ]
        }
      ],
      "source": [
        "#Give access to your google drive account\n",
        "from google.colab import drive\n",
        "drive.mount('/content/drive')"
      ]
    },
    {
      "cell_type": "code",
      "execution_count": 3,
      "metadata": {
        "id": "g7j7Jv3IIl1I"
      },
      "outputs": [],
      "source": [
        "#Read dataset into dataframe from the google drive\n",
        "df=pd.read_csv(\"/content/drive/MyDrive/GoogleClusterDataset/borg_traces_data.csv\")\n"
      ]
    },
    {
      "cell_type": "code",
      "execution_count": 4,
      "metadata": {
        "colab": {
          "base_uri": "https://localhost:8080/"
        },
        "id": "WnwMixPOmkD6",
        "outputId": "daeb45ed-dc1b-4bc6-9cb3-bd0b3afdc467"
      },
      "outputs": [
        {
          "output_type": "stream",
          "name": "stdout",
          "text": [
            "<class 'pandas.core.frame.DataFrame'>\n",
            "RangeIndex: 405894 entries, 0 to 405893\n",
            "Data columns (total 34 columns):\n",
            " #   Column                           Non-Null Count   Dtype  \n",
            "---  ------                           --------------   -----  \n",
            " 0   Unnamed: 0                       405894 non-null  int64  \n",
            " 1   time                             405894 non-null  int64  \n",
            " 2   instance_events_type             405894 non-null  int64  \n",
            " 3   collection_id                    405894 non-null  int64  \n",
            " 4   scheduling_class                 405894 non-null  int64  \n",
            " 5   collection_type                  405894 non-null  int64  \n",
            " 6   priority                         405894 non-null  int64  \n",
            " 7   alloc_collection_id              405894 non-null  int64  \n",
            " 8   instance_index                   405894 non-null  int64  \n",
            " 9   machine_id                       405894 non-null  int64  \n",
            " 10  resource_request                 405120 non-null  object \n",
            " 11  constraint                       405894 non-null  object \n",
            " 12  collections_events_type          405894 non-null  int64  \n",
            " 13  user                             405894 non-null  object \n",
            " 14  collection_name                  405894 non-null  object \n",
            " 15  collection_logical_name          405894 non-null  object \n",
            " 16  start_after_collection_ids       405894 non-null  object \n",
            " 17  vertical_scaling                 404935 non-null  float64\n",
            " 18  scheduler                        404935 non-null  float64\n",
            " 19  start_time                       405894 non-null  int64  \n",
            " 20  end_time                         405894 non-null  int64  \n",
            " 21  average_usage                    405894 non-null  object \n",
            " 22  maximum_usage                    405894 non-null  object \n",
            " 23  random_sample_usage              405894 non-null  object \n",
            " 24  assigned_memory                  405894 non-null  float64\n",
            " 25  page_cache_memory                405894 non-null  float64\n",
            " 26  cycles_per_instruction           281206 non-null  float64\n",
            " 27  memory_accesses_per_instruction  281206 non-null  float64\n",
            " 28  sample_rate                      405894 non-null  float64\n",
            " 29  cpu_usage_distribution           405894 non-null  object \n",
            " 30  tail_cpu_usage_distribution      405894 non-null  object \n",
            " 31  cluster                          405894 non-null  int64  \n",
            " 32  event                            405894 non-null  object \n",
            " 33  failed                           405894 non-null  int64  \n",
            "dtypes: float64(7), int64(15), object(12)\n",
            "memory usage: 105.3+ MB\n"
          ]
        }
      ],
      "source": [
        "#Check details of attributes and records in the dataframe\n",
        "df.info()"
      ]
    },
    {
      "cell_type": "code",
      "execution_count": 5,
      "metadata": {
        "colab": {
          "base_uri": "https://localhost:8080/",
          "height": 423
        },
        "id": "5oo0Jopm_lMv",
        "outputId": "9edbe8e8-718f-4c41-f3c4-f9521e035510"
      },
      "outputs": [
        {
          "output_type": "execute_result",
          "data": {
            "text/plain": [
              "        cycles_per_instruction  memory_accesses_per_instruction\n",
              "0                          NaN                              NaN\n",
              "1                          NaN                              NaN\n",
              "2                     0.939919                         0.001318\n",
              "3                     1.359102                         0.007643\n",
              "4                          NaN                              NaN\n",
              "...                        ...                              ...\n",
              "405889                0.693324                         0.003158\n",
              "405890                1.019433                         0.001859\n",
              "405891                0.990970                         0.002941\n",
              "405892                3.023431                         0.015743\n",
              "405893                     NaN                              NaN\n",
              "\n",
              "[405894 rows x 2 columns]"
            ],
            "text/html": [
              "\n",
              "  <div id=\"df-35ed1405-5e66-4eb4-9fbe-1e7c3b0f89d3\" class=\"colab-df-container\">\n",
              "    <div>\n",
              "<style scoped>\n",
              "    .dataframe tbody tr th:only-of-type {\n",
              "        vertical-align: middle;\n",
              "    }\n",
              "\n",
              "    .dataframe tbody tr th {\n",
              "        vertical-align: top;\n",
              "    }\n",
              "\n",
              "    .dataframe thead th {\n",
              "        text-align: right;\n",
              "    }\n",
              "</style>\n",
              "<table border=\"1\" class=\"dataframe\">\n",
              "  <thead>\n",
              "    <tr style=\"text-align: right;\">\n",
              "      <th></th>\n",
              "      <th>cycles_per_instruction</th>\n",
              "      <th>memory_accesses_per_instruction</th>\n",
              "    </tr>\n",
              "  </thead>\n",
              "  <tbody>\n",
              "    <tr>\n",
              "      <th>0</th>\n",
              "      <td>NaN</td>\n",
              "      <td>NaN</td>\n",
              "    </tr>\n",
              "    <tr>\n",
              "      <th>1</th>\n",
              "      <td>NaN</td>\n",
              "      <td>NaN</td>\n",
              "    </tr>\n",
              "    <tr>\n",
              "      <th>2</th>\n",
              "      <td>0.939919</td>\n",
              "      <td>0.001318</td>\n",
              "    </tr>\n",
              "    <tr>\n",
              "      <th>3</th>\n",
              "      <td>1.359102</td>\n",
              "      <td>0.007643</td>\n",
              "    </tr>\n",
              "    <tr>\n",
              "      <th>4</th>\n",
              "      <td>NaN</td>\n",
              "      <td>NaN</td>\n",
              "    </tr>\n",
              "    <tr>\n",
              "      <th>...</th>\n",
              "      <td>...</td>\n",
              "      <td>...</td>\n",
              "    </tr>\n",
              "    <tr>\n",
              "      <th>405889</th>\n",
              "      <td>0.693324</td>\n",
              "      <td>0.003158</td>\n",
              "    </tr>\n",
              "    <tr>\n",
              "      <th>405890</th>\n",
              "      <td>1.019433</td>\n",
              "      <td>0.001859</td>\n",
              "    </tr>\n",
              "    <tr>\n",
              "      <th>405891</th>\n",
              "      <td>0.990970</td>\n",
              "      <td>0.002941</td>\n",
              "    </tr>\n",
              "    <tr>\n",
              "      <th>405892</th>\n",
              "      <td>3.023431</td>\n",
              "      <td>0.015743</td>\n",
              "    </tr>\n",
              "    <tr>\n",
              "      <th>405893</th>\n",
              "      <td>NaN</td>\n",
              "      <td>NaN</td>\n",
              "    </tr>\n",
              "  </tbody>\n",
              "</table>\n",
              "<p>405894 rows × 2 columns</p>\n",
              "</div>\n",
              "    <div class=\"colab-df-buttons\">\n",
              "\n",
              "  <div class=\"colab-df-container\">\n",
              "    <button class=\"colab-df-convert\" onclick=\"convertToInteractive('df-35ed1405-5e66-4eb4-9fbe-1e7c3b0f89d3')\"\n",
              "            title=\"Convert this dataframe to an interactive table.\"\n",
              "            style=\"display:none;\">\n",
              "\n",
              "  <svg xmlns=\"http://www.w3.org/2000/svg\" height=\"24px\" viewBox=\"0 -960 960 960\">\n",
              "    <path d=\"M120-120v-720h720v720H120Zm60-500h600v-160H180v160Zm220 220h160v-160H400v160Zm0 220h160v-160H400v160ZM180-400h160v-160H180v160Zm440 0h160v-160H620v160ZM180-180h160v-160H180v160Zm440 0h160v-160H620v160Z\"/>\n",
              "  </svg>\n",
              "    </button>\n",
              "\n",
              "  <style>\n",
              "    .colab-df-container {\n",
              "      display:flex;\n",
              "      gap: 12px;\n",
              "    }\n",
              "\n",
              "    .colab-df-convert {\n",
              "      background-color: #E8F0FE;\n",
              "      border: none;\n",
              "      border-radius: 50%;\n",
              "      cursor: pointer;\n",
              "      display: none;\n",
              "      fill: #1967D2;\n",
              "      height: 32px;\n",
              "      padding: 0 0 0 0;\n",
              "      width: 32px;\n",
              "    }\n",
              "\n",
              "    .colab-df-convert:hover {\n",
              "      background-color: #E2EBFA;\n",
              "      box-shadow: 0px 1px 2px rgba(60, 64, 67, 0.3), 0px 1px 3px 1px rgba(60, 64, 67, 0.15);\n",
              "      fill: #174EA6;\n",
              "    }\n",
              "\n",
              "    .colab-df-buttons div {\n",
              "      margin-bottom: 4px;\n",
              "    }\n",
              "\n",
              "    [theme=dark] .colab-df-convert {\n",
              "      background-color: #3B4455;\n",
              "      fill: #D2E3FC;\n",
              "    }\n",
              "\n",
              "    [theme=dark] .colab-df-convert:hover {\n",
              "      background-color: #434B5C;\n",
              "      box-shadow: 0px 1px 3px 1px rgba(0, 0, 0, 0.15);\n",
              "      filter: drop-shadow(0px 1px 2px rgba(0, 0, 0, 0.3));\n",
              "      fill: #FFFFFF;\n",
              "    }\n",
              "  </style>\n",
              "\n",
              "    <script>\n",
              "      const buttonEl =\n",
              "        document.querySelector('#df-35ed1405-5e66-4eb4-9fbe-1e7c3b0f89d3 button.colab-df-convert');\n",
              "      buttonEl.style.display =\n",
              "        google.colab.kernel.accessAllowed ? 'block' : 'none';\n",
              "\n",
              "      async function convertToInteractive(key) {\n",
              "        const element = document.querySelector('#df-35ed1405-5e66-4eb4-9fbe-1e7c3b0f89d3');\n",
              "        const dataTable =\n",
              "          await google.colab.kernel.invokeFunction('convertToInteractive',\n",
              "                                                    [key], {});\n",
              "        if (!dataTable) return;\n",
              "\n",
              "        const docLinkHtml = 'Like what you see? Visit the ' +\n",
              "          '<a target=\"_blank\" href=https://colab.research.google.com/notebooks/data_table.ipynb>data table notebook</a>'\n",
              "          + ' to learn more about interactive tables.';\n",
              "        element.innerHTML = '';\n",
              "        dataTable['output_type'] = 'display_data';\n",
              "        await google.colab.output.renderOutput(dataTable, element);\n",
              "        const docLink = document.createElement('div');\n",
              "        docLink.innerHTML = docLinkHtml;\n",
              "        element.appendChild(docLink);\n",
              "      }\n",
              "    </script>\n",
              "  </div>\n",
              "\n",
              "\n",
              "<div id=\"df-4b1780d0-6d4e-46d7-94b6-26451f34d383\">\n",
              "  <button class=\"colab-df-quickchart\" onclick=\"quickchart('df-4b1780d0-6d4e-46d7-94b6-26451f34d383')\"\n",
              "            title=\"Suggest charts.\"\n",
              "            style=\"display:none;\">\n",
              "\n",
              "<svg xmlns=\"http://www.w3.org/2000/svg\" height=\"24px\"viewBox=\"0 0 24 24\"\n",
              "     width=\"24px\">\n",
              "    <g>\n",
              "        <path d=\"M19 3H5c-1.1 0-2 .9-2 2v14c0 1.1.9 2 2 2h14c1.1 0 2-.9 2-2V5c0-1.1-.9-2-2-2zM9 17H7v-7h2v7zm4 0h-2V7h2v10zm4 0h-2v-4h2v4z\"/>\n",
              "    </g>\n",
              "</svg>\n",
              "  </button>\n",
              "\n",
              "<style>\n",
              "  .colab-df-quickchart {\n",
              "      --bg-color: #E8F0FE;\n",
              "      --fill-color: #1967D2;\n",
              "      --hover-bg-color: #E2EBFA;\n",
              "      --hover-fill-color: #174EA6;\n",
              "      --disabled-fill-color: #AAA;\n",
              "      --disabled-bg-color: #DDD;\n",
              "  }\n",
              "\n",
              "  [theme=dark] .colab-df-quickchart {\n",
              "      --bg-color: #3B4455;\n",
              "      --fill-color: #D2E3FC;\n",
              "      --hover-bg-color: #434B5C;\n",
              "      --hover-fill-color: #FFFFFF;\n",
              "      --disabled-bg-color: #3B4455;\n",
              "      --disabled-fill-color: #666;\n",
              "  }\n",
              "\n",
              "  .colab-df-quickchart {\n",
              "    background-color: var(--bg-color);\n",
              "    border: none;\n",
              "    border-radius: 50%;\n",
              "    cursor: pointer;\n",
              "    display: none;\n",
              "    fill: var(--fill-color);\n",
              "    height: 32px;\n",
              "    padding: 0;\n",
              "    width: 32px;\n",
              "  }\n",
              "\n",
              "  .colab-df-quickchart:hover {\n",
              "    background-color: var(--hover-bg-color);\n",
              "    box-shadow: 0 1px 2px rgba(60, 64, 67, 0.3), 0 1px 3px 1px rgba(60, 64, 67, 0.15);\n",
              "    fill: var(--button-hover-fill-color);\n",
              "  }\n",
              "\n",
              "  .colab-df-quickchart-complete:disabled,\n",
              "  .colab-df-quickchart-complete:disabled:hover {\n",
              "    background-color: var(--disabled-bg-color);\n",
              "    fill: var(--disabled-fill-color);\n",
              "    box-shadow: none;\n",
              "  }\n",
              "\n",
              "  .colab-df-spinner {\n",
              "    border: 2px solid var(--fill-color);\n",
              "    border-color: transparent;\n",
              "    border-bottom-color: var(--fill-color);\n",
              "    animation:\n",
              "      spin 1s steps(1) infinite;\n",
              "  }\n",
              "\n",
              "  @keyframes spin {\n",
              "    0% {\n",
              "      border-color: transparent;\n",
              "      border-bottom-color: var(--fill-color);\n",
              "      border-left-color: var(--fill-color);\n",
              "    }\n",
              "    20% {\n",
              "      border-color: transparent;\n",
              "      border-left-color: var(--fill-color);\n",
              "      border-top-color: var(--fill-color);\n",
              "    }\n",
              "    30% {\n",
              "      border-color: transparent;\n",
              "      border-left-color: var(--fill-color);\n",
              "      border-top-color: var(--fill-color);\n",
              "      border-right-color: var(--fill-color);\n",
              "    }\n",
              "    40% {\n",
              "      border-color: transparent;\n",
              "      border-right-color: var(--fill-color);\n",
              "      border-top-color: var(--fill-color);\n",
              "    }\n",
              "    60% {\n",
              "      border-color: transparent;\n",
              "      border-right-color: var(--fill-color);\n",
              "    }\n",
              "    80% {\n",
              "      border-color: transparent;\n",
              "      border-right-color: var(--fill-color);\n",
              "      border-bottom-color: var(--fill-color);\n",
              "    }\n",
              "    90% {\n",
              "      border-color: transparent;\n",
              "      border-bottom-color: var(--fill-color);\n",
              "    }\n",
              "  }\n",
              "</style>\n",
              "\n",
              "  <script>\n",
              "    async function quickchart(key) {\n",
              "      const quickchartButtonEl =\n",
              "        document.querySelector('#' + key + ' button');\n",
              "      quickchartButtonEl.disabled = true;  // To prevent multiple clicks.\n",
              "      quickchartButtonEl.classList.add('colab-df-spinner');\n",
              "      try {\n",
              "        const charts = await google.colab.kernel.invokeFunction(\n",
              "            'suggestCharts', [key], {});\n",
              "      } catch (error) {\n",
              "        console.error('Error during call to suggestCharts:', error);\n",
              "      }\n",
              "      quickchartButtonEl.classList.remove('colab-df-spinner');\n",
              "      quickchartButtonEl.classList.add('colab-df-quickchart-complete');\n",
              "    }\n",
              "    (() => {\n",
              "      let quickchartButtonEl =\n",
              "        document.querySelector('#df-4b1780d0-6d4e-46d7-94b6-26451f34d383 button');\n",
              "      quickchartButtonEl.style.display =\n",
              "        google.colab.kernel.accessAllowed ? 'block' : 'none';\n",
              "    })();\n",
              "  </script>\n",
              "</div>\n",
              "    </div>\n",
              "  </div>\n"
            ]
          },
          "metadata": {},
          "execution_count": 5
        }
      ],
      "source": [
        "df[['cycles_per_instruction', 'memory_accesses_per_instruction']]"
      ]
    },
    {
      "cell_type": "code",
      "execution_count": 6,
      "metadata": {
        "id": "DWxXgLWqAHka"
      },
      "outputs": [],
      "source": [
        "#Drop the columns\n",
        "df.drop(['cycles_per_instruction', 'memory_accesses_per_instruction'], axis=1, inplace=True)"
      ]
    },
    {
      "cell_type": "markdown",
      "metadata": {
        "id": "gWT5R09jswpj"
      },
      "source": [
        "Splitting resource request column into two columns- cpu_resource_request and memory_resource_request"
      ]
    },
    {
      "cell_type": "code",
      "execution_count": 7,
      "metadata": {
        "id": "ey1OvjwqXVUG"
      },
      "outputs": [],
      "source": [
        "df[['cpu', 'memory']] = df['resource_request'].str.split(',', expand=True)\n",
        "\n",
        "df[['cpu_dummy', 'cpu_resource_request']] = df['cpu'].str.split(':', expand=True)\n",
        "\n",
        "df[['memory_dummy', 'memory_resource_request']] = df['memory'].str.split(':', expand=True)\n",
        "\n"
      ]
    },
    {
      "cell_type": "code",
      "execution_count": 8,
      "metadata": {
        "id": "OrBwtmkSd4_B"
      },
      "outputs": [],
      "source": [
        "df.drop(['cpu', 'memory','cpu_dummy','memory_dummy','resource_request'], axis=1,inplace=True)\n",
        "\n",
        "df['memory_resource_request'] = df['memory_resource_request'].str[:-1]\n",
        "\n",
        "#Converting values in the columns \"memory_resource_request\" and \"cpu_resource_request\" into float type\n",
        "df['memory_resource_request'] = df['memory_resource_request'].astype(float)\n",
        "df['cpu_resource_request'] = df['cpu_resource_request'].astype(float)"
      ]
    },
    {
      "cell_type": "code",
      "execution_count": 9,
      "metadata": {
        "colab": {
          "base_uri": "https://localhost:8080/"
        },
        "id": "jk6QjqtjbhKM",
        "outputId": "2c130e55-7613-4b51-fb4f-54eca312fb7c"
      },
      "outputs": [
        {
          "output_type": "stream",
          "name": "stdout",
          "text": [
            "<class 'pandas.core.frame.DataFrame'>\n",
            "RangeIndex: 405894 entries, 0 to 405893\n",
            "Data columns (total 33 columns):\n",
            " #   Column                       Non-Null Count   Dtype  \n",
            "---  ------                       --------------   -----  \n",
            " 0   Unnamed: 0                   405894 non-null  int64  \n",
            " 1   time                         405894 non-null  int64  \n",
            " 2   instance_events_type         405894 non-null  int64  \n",
            " 3   collection_id                405894 non-null  int64  \n",
            " 4   scheduling_class             405894 non-null  int64  \n",
            " 5   collection_type              405894 non-null  int64  \n",
            " 6   priority                     405894 non-null  int64  \n",
            " 7   alloc_collection_id          405894 non-null  int64  \n",
            " 8   instance_index               405894 non-null  int64  \n",
            " 9   machine_id                   405894 non-null  int64  \n",
            " 10  constraint                   405894 non-null  object \n",
            " 11  collections_events_type      405894 non-null  int64  \n",
            " 12  user                         405894 non-null  object \n",
            " 13  collection_name              405894 non-null  object \n",
            " 14  collection_logical_name      405894 non-null  object \n",
            " 15  start_after_collection_ids   405894 non-null  object \n",
            " 16  vertical_scaling             404935 non-null  float64\n",
            " 17  scheduler                    404935 non-null  float64\n",
            " 18  start_time                   405894 non-null  int64  \n",
            " 19  end_time                     405894 non-null  int64  \n",
            " 20  average_usage                405894 non-null  object \n",
            " 21  maximum_usage                405894 non-null  object \n",
            " 22  random_sample_usage          405894 non-null  object \n",
            " 23  assigned_memory              405894 non-null  float64\n",
            " 24  page_cache_memory            405894 non-null  float64\n",
            " 25  sample_rate                  405894 non-null  float64\n",
            " 26  cpu_usage_distribution       405894 non-null  object \n",
            " 27  tail_cpu_usage_distribution  405894 non-null  object \n",
            " 28  cluster                      405894 non-null  int64  \n",
            " 29  event                        405894 non-null  object \n",
            " 30  failed                       405894 non-null  int64  \n",
            " 31  cpu_resource_request         405120 non-null  float64\n",
            " 32  memory_resource_request      405120 non-null  float64\n",
            "dtypes: float64(7), int64(15), object(11)\n",
            "memory usage: 102.2+ MB\n"
          ]
        }
      ],
      "source": [
        "df.info()"
      ]
    },
    {
      "cell_type": "markdown",
      "metadata": {
        "id": "sLsvnXo-yyrS"
      },
      "source": [
        "Splitting 'average_usage' column into two columns- cpu_avg_usage and memory_avg_usage"
      ]
    },
    {
      "cell_type": "code",
      "execution_count": 10,
      "metadata": {
        "id": "dPR_EVYOzExB"
      },
      "outputs": [],
      "source": [
        "df[['cpu', 'memory']] = df['average_usage'].str.split(',', expand=True)\n",
        "\n",
        "df[['cpu_dummy', 'cpu_avg_usage']] = df['cpu'].str.split(':', expand=True)\n",
        "\n",
        "df[['memory_dummy', 'memory_avg_usage']] = df['memory'].str.split(':', expand=True)\n",
        "\n",
        "#Drop the intermediate columns which are not useful\n",
        "df.drop(['cpu', 'memory','cpu_dummy','memory_dummy','average_usage'], axis=1,inplace=True)\n",
        "\n",
        "df['memory_avg_usage'] = df['memory_avg_usage'].str[:-1]\n",
        "\n",
        "#Converting values in the columns 'memory_avg_usage' and 'cpu_avg_usage' from string type to float types\n",
        "df['memory_avg_usage'] = df['memory_avg_usage'].astype(float)\n",
        "df['cpu_avg_usage'] = df['cpu_avg_usage'].astype(float)"
      ]
    },
    {
      "cell_type": "markdown",
      "metadata": {
        "id": "3WcTyLXO21xh"
      },
      "source": [
        "Splitting 'maximum_usage' into 'cpu_max_usage' and 'memory_max_usage'"
      ]
    },
    {
      "cell_type": "code",
      "execution_count": 11,
      "metadata": {
        "id": "mGlLqOX83M96"
      },
      "outputs": [],
      "source": [
        "df[['cpu', 'memory']] = df['maximum_usage'].str.split(',', expand=True)\n",
        "\n",
        "df[['cpu_dummy', 'cpu_max_usage']] = df['cpu'].str.split(':', expand=True)\n",
        "\n",
        "df[['memory_dummy', 'memory_max_usage']] = df['memory'].str.split(':', expand=True)\n",
        "\n",
        "#Drop the intermediate columns which are not useful\n",
        "df.drop(['cpu', 'memory','cpu_dummy','memory_dummy','maximum_usage'], axis=1,inplace=True)\n",
        "\n",
        "df['memory_max_usage'] = df['memory_max_usage'].str[:-1]\n",
        "\n",
        "#Converting values in the columns 'memory_avg_usage' and 'cpu_avg_usage' from string type to float types\n",
        "# Replace 'none' with '0' and convert the column to float\n",
        "df['memory_max_usage'] = df['memory_max_usage'].replace(' None', '0').astype(float)\n",
        "#df['memory_max_usage'] = df['memory_max_usage'].astype(float)\n",
        "df['cpu_max_usage'] = df['cpu_max_usage'].astype(float)"
      ]
    },
    {
      "cell_type": "code",
      "execution_count": 12,
      "metadata": {
        "id": "OgWmIjU7cg5z"
      },
      "outputs": [],
      "source": [
        "#Splitting column 'cpu_usage_distribution' and removing \"[\" and \"]\" from the string and storing in \"cpu_usage_distribution\"\n",
        "df[['cpu', 'memory']] = df['cpu_usage_distribution'].str.split('[', expand=True)\n",
        "\n",
        "df[['cpu_usage_distribution', 'memory_random_sample_usage']] = df['memory'].str.split(']', expand=True)\n",
        "\n",
        "\n",
        "#Drop the intermediate columns which are not useful\n",
        "df.drop(['cpu', 'memory','memory_random_sample_usage'], axis=1,inplace=True)\n",
        "\n",
        "df['cpu_usage_distribution'] = df['cpu_usage_distribution'].str[:-1]\n",
        "\n",
        "#convert string to float in column \"cpu_usage_distribution\"\n",
        "df['cpu_usage_distribution'] = df['cpu_usage_distribution'].str.split().apply(lambda x: [float(val) for val in x])"
      ]
    },
    {
      "cell_type": "code",
      "execution_count": 13,
      "metadata": {
        "id": "URimWBwxeWY5"
      },
      "outputs": [],
      "source": [
        "#Splitting column 'tail_cpu_usage_distribution' and removing \"[\" and \"]\" from the string and storing in \"tail_cpu_usage_distribution\"\n",
        "df[['cpu', 'memory']] = df['tail_cpu_usage_distribution'].str.split('[', expand=True)\n",
        "\n",
        "df[['tail_cpu_usage_distribution', 'memory_random_sample_usage']] = df['memory'].str.split(']', expand=True)\n",
        "\n",
        "#Drop the intermediate columns which are not useful\n",
        "df.drop(['cpu', 'memory','memory_random_sample_usage'], axis=1,inplace=True)\n",
        "\n",
        "df['tail_cpu_usage_distribution'] = df['tail_cpu_usage_distribution'].str[:-1]\n",
        "\n",
        "#convert string to float in column \"tail_cpu_usage_distribution\"\n",
        "df['tail_cpu_usage_distribution'] = df['tail_cpu_usage_distribution'].str.split().apply(lambda x: [float(val) for val in x])"
      ]
    },
    {
      "cell_type": "code",
      "execution_count": 14,
      "metadata": {
        "id": "A45F0fkZc9aM"
      },
      "outputs": [],
      "source": [
        "# creating a blank series\n",
        "priority_new = []\n",
        "\n",
        "# running a for loop and assigning some values to series\n",
        "for i in range(len(df)):\n",
        "  if df['priority'][i] in range (0, 100):\n",
        "    priority_new.append(0)\n",
        "  elif df[\"priority\"][i] in range (100,116):\n",
        "    priority_new.append(1)\n",
        "  elif df[\"priority\"][i] in range (116,120):\n",
        "    priority_new.append(2)\n",
        "  elif df[\"priority\"][i] in range (120,360):\n",
        "    priority_new.append(3)\n",
        "  else:\n",
        "    priority_new.append(4)\n",
        "\n",
        "\n",
        "# inserting new column with values of list made above\n",
        "#df.insert(7, \"new_priority\", priority_new)\n",
        "\n",
        "# list output\n",
        "#data.head()"
      ]
    },
    {
      "cell_type": "code",
      "execution_count": 15,
      "metadata": {
        "id": "QaoO56rYdduX"
      },
      "outputs": [],
      "source": [
        "df.drop(\"priority\", axis=1, inplace=True)"
      ]
    },
    {
      "cell_type": "code",
      "execution_count": 16,
      "metadata": {
        "id": "lfKve2GRdhyZ"
      },
      "outputs": [],
      "source": [
        "# inserting new column with values of list made above\n",
        "df.insert(2, \"priority\", priority_new)"
      ]
    },
    {
      "cell_type": "code",
      "execution_count": 17,
      "metadata": {
        "colab": {
          "base_uri": "https://localhost:8080/"
        },
        "id": "U2bvKJGaeqPL",
        "outputId": "4a5f99d7-79ea-4c6f-8ad5-0f66a07df9c4"
      },
      "outputs": [
        {
          "output_type": "stream",
          "name": "stdout",
          "text": [
            "<class 'pandas.core.frame.DataFrame'>\n",
            "RangeIndex: 405894 entries, 0 to 405893\n",
            "Data columns (total 35 columns):\n",
            " #   Column                       Non-Null Count   Dtype  \n",
            "---  ------                       --------------   -----  \n",
            " 0   Unnamed: 0                   405894 non-null  int64  \n",
            " 1   time                         405894 non-null  int64  \n",
            " 2   priority                     405894 non-null  int64  \n",
            " 3   instance_events_type         405894 non-null  int64  \n",
            " 4   collection_id                405894 non-null  int64  \n",
            " 5   scheduling_class             405894 non-null  int64  \n",
            " 6   collection_type              405894 non-null  int64  \n",
            " 7   alloc_collection_id          405894 non-null  int64  \n",
            " 8   instance_index               405894 non-null  int64  \n",
            " 9   machine_id                   405894 non-null  int64  \n",
            " 10  constraint                   405894 non-null  object \n",
            " 11  collections_events_type      405894 non-null  int64  \n",
            " 12  user                         405894 non-null  object \n",
            " 13  collection_name              405894 non-null  object \n",
            " 14  collection_logical_name      405894 non-null  object \n",
            " 15  start_after_collection_ids   405894 non-null  object \n",
            " 16  vertical_scaling             404935 non-null  float64\n",
            " 17  scheduler                    404935 non-null  float64\n",
            " 18  start_time                   405894 non-null  int64  \n",
            " 19  end_time                     405894 non-null  int64  \n",
            " 20  random_sample_usage          405894 non-null  object \n",
            " 21  assigned_memory              405894 non-null  float64\n",
            " 22  page_cache_memory            405894 non-null  float64\n",
            " 23  sample_rate                  405894 non-null  float64\n",
            " 24  cpu_usage_distribution       405894 non-null  object \n",
            " 25  tail_cpu_usage_distribution  405894 non-null  object \n",
            " 26  cluster                      405894 non-null  int64  \n",
            " 27  event                        405894 non-null  object \n",
            " 28  failed                       405894 non-null  int64  \n",
            " 29  cpu_resource_request         405120 non-null  float64\n",
            " 30  memory_resource_request      405120 non-null  float64\n",
            " 31  cpu_avg_usage                405894 non-null  float64\n",
            " 32  memory_avg_usage             405894 non-null  float64\n",
            " 33  cpu_max_usage                405894 non-null  float64\n",
            " 34  memory_max_usage             405894 non-null  float64\n",
            "dtypes: float64(11), int64(15), object(9)\n",
            "memory usage: 108.4+ MB\n"
          ]
        }
      ],
      "source": [
        "df.info()"
      ]
    },
    {
      "cell_type": "code",
      "execution_count": 18,
      "metadata": {
        "colab": {
          "base_uri": "https://localhost:8080/"
        },
        "id": "4paXN7DPk7O6",
        "outputId": "6df35f01-8b89-4c90-9e03-dc49845a1dd6"
      },
      "outputs": [
        {
          "output_type": "execute_result",
          "data": {
            "text/plain": [
              "0         [0.00535583, 0.00541687, 0.00548553, 0.0055465...\n",
              "1         [1.23977661e-05, 1.23977661e-05, 1.23977661e-0...\n",
              "2         [0.02902222, 0.02929688, 0.0295105, 0.0296936,...\n",
              "3         [0.05535889, 0.05584717, 0.05633545, 0.0571899...\n",
              "4         [0.00041485, 0.00041485, 0.00041485, 0.0004148...\n",
              "                                ...                        \n",
              "405889    [0.0222168, 0.02261353, 0.02294922, 0.02404785...\n",
              "405890    [0.05828857, 0.05871582, 0.05938721, 0.0609741...\n",
              "405891    [0.03515625, 0.03552246, 0.03729248, 0.0391235...\n",
              "405892    [0.00904846, 0.00907898, 0.00909424, 0.0091247...\n",
              "405893    [0.01922607, 0.02011108, 0.02130127, 0.0220642...\n",
              "Name: tail_cpu_usage_distribution, Length: 405894, dtype: object"
            ]
          },
          "metadata": {},
          "execution_count": 18
        }
      ],
      "source": [
        "df['tail_cpu_usage_distribution']"
      ]
    },
    {
      "cell_type": "code",
      "execution_count": 19,
      "metadata": {
        "colab": {
          "base_uri": "https://localhost:8080/",
          "height": 359
        },
        "id": "Ieaap_oSo3GT",
        "outputId": "70aa44fd-2b2e-43f8-ba53-40e364e9365d"
      },
      "outputs": [
        {
          "output_type": "execute_result",
          "data": {
            "text/plain": [
              "   Unnamed: 0           time  priority  instance_events_type  collection_id  \\\n",
              "0           0              0         3                     2    94591244395   \n",
              "1           1  2517305308183         4                     2   260697606809   \n",
              "2           2   195684022913         1                     6   276227177776   \n",
              "3           3              0         3                     2    10507389885   \n",
              "4           4  1810627494172         0                     3    25911621841   \n",
              "\n",
              "   scheduling_class  collection_type  alloc_collection_id  instance_index  \\\n",
              "0                 3                1                    0             144   \n",
              "1                 2                0         221495397286             335   \n",
              "2                 2                0                    0             376   \n",
              "3                 3                0                    0            1977   \n",
              "4                 2                0                    0            3907   \n",
              "\n",
              "     machine_id  ...                        tail_cpu_usage_distribution  \\\n",
              "0  168846390496  ...  [0.00535583, 0.00541687, 0.00548553, 0.0055465...   \n",
              "1      85515092  ...  [1.23977661e-05, 1.23977661e-05, 1.23977661e-0...   \n",
              "2  169321752432  ...  [0.02902222, 0.02929688, 0.0295105, 0.0296936,...   \n",
              "3  178294817221  ...  [0.05535889, 0.05584717, 0.05633545, 0.0571899...   \n",
              "4  231364893292  ...  [0.00041485, 0.00041485, 0.00041485, 0.0004148...   \n",
              "\n",
              "   cluster     event failed cpu_resource_request memory_resource_request  \\\n",
              "0        7      FAIL      1             0.020660                0.014435   \n",
              "1        7      FAIL      1             0.007240                0.001303   \n",
              "2        7  SCHEDULE      0             0.048584                0.004166   \n",
              "3        8      FAIL      1             0.070435                0.041626   \n",
              "4        2    FINISH      0             0.002449                0.000232   \n",
              "\n",
              "   cpu_avg_usage  memory_avg_usage  cpu_max_usage  memory_max_usage  \n",
              "0       0.004662      5.920410e-03       0.011902      5.935669e-03  \n",
              "1       0.000000      9.536743e-07       0.000000      9.536743e-07  \n",
              "2       0.024200      2.788544e-03       0.060059      2.845764e-03  \n",
              "3       0.047607      3.442383e-02       0.133301      3.466797e-02  \n",
              "4       0.000271      7.629395e-05       0.000415      7.629395e-05  \n",
              "\n",
              "[5 rows x 35 columns]"
            ],
            "text/html": [
              "\n",
              "  <div id=\"df-8ca91a29-492e-439b-90d1-efcb77ede4cf\" class=\"colab-df-container\">\n",
              "    <div>\n",
              "<style scoped>\n",
              "    .dataframe tbody tr th:only-of-type {\n",
              "        vertical-align: middle;\n",
              "    }\n",
              "\n",
              "    .dataframe tbody tr th {\n",
              "        vertical-align: top;\n",
              "    }\n",
              "\n",
              "    .dataframe thead th {\n",
              "        text-align: right;\n",
              "    }\n",
              "</style>\n",
              "<table border=\"1\" class=\"dataframe\">\n",
              "  <thead>\n",
              "    <tr style=\"text-align: right;\">\n",
              "      <th></th>\n",
              "      <th>Unnamed: 0</th>\n",
              "      <th>time</th>\n",
              "      <th>priority</th>\n",
              "      <th>instance_events_type</th>\n",
              "      <th>collection_id</th>\n",
              "      <th>scheduling_class</th>\n",
              "      <th>collection_type</th>\n",
              "      <th>alloc_collection_id</th>\n",
              "      <th>instance_index</th>\n",
              "      <th>machine_id</th>\n",
              "      <th>...</th>\n",
              "      <th>tail_cpu_usage_distribution</th>\n",
              "      <th>cluster</th>\n",
              "      <th>event</th>\n",
              "      <th>failed</th>\n",
              "      <th>cpu_resource_request</th>\n",
              "      <th>memory_resource_request</th>\n",
              "      <th>cpu_avg_usage</th>\n",
              "      <th>memory_avg_usage</th>\n",
              "      <th>cpu_max_usage</th>\n",
              "      <th>memory_max_usage</th>\n",
              "    </tr>\n",
              "  </thead>\n",
              "  <tbody>\n",
              "    <tr>\n",
              "      <th>0</th>\n",
              "      <td>0</td>\n",
              "      <td>0</td>\n",
              "      <td>3</td>\n",
              "      <td>2</td>\n",
              "      <td>94591244395</td>\n",
              "      <td>3</td>\n",
              "      <td>1</td>\n",
              "      <td>0</td>\n",
              "      <td>144</td>\n",
              "      <td>168846390496</td>\n",
              "      <td>...</td>\n",
              "      <td>[0.00535583, 0.00541687, 0.00548553, 0.0055465...</td>\n",
              "      <td>7</td>\n",
              "      <td>FAIL</td>\n",
              "      <td>1</td>\n",
              "      <td>0.020660</td>\n",
              "      <td>0.014435</td>\n",
              "      <td>0.004662</td>\n",
              "      <td>5.920410e-03</td>\n",
              "      <td>0.011902</td>\n",
              "      <td>5.935669e-03</td>\n",
              "    </tr>\n",
              "    <tr>\n",
              "      <th>1</th>\n",
              "      <td>1</td>\n",
              "      <td>2517305308183</td>\n",
              "      <td>4</td>\n",
              "      <td>2</td>\n",
              "      <td>260697606809</td>\n",
              "      <td>2</td>\n",
              "      <td>0</td>\n",
              "      <td>221495397286</td>\n",
              "      <td>335</td>\n",
              "      <td>85515092</td>\n",
              "      <td>...</td>\n",
              "      <td>[1.23977661e-05, 1.23977661e-05, 1.23977661e-0...</td>\n",
              "      <td>7</td>\n",
              "      <td>FAIL</td>\n",
              "      <td>1</td>\n",
              "      <td>0.007240</td>\n",
              "      <td>0.001303</td>\n",
              "      <td>0.000000</td>\n",
              "      <td>9.536743e-07</td>\n",
              "      <td>0.000000</td>\n",
              "      <td>9.536743e-07</td>\n",
              "    </tr>\n",
              "    <tr>\n",
              "      <th>2</th>\n",
              "      <td>2</td>\n",
              "      <td>195684022913</td>\n",
              "      <td>1</td>\n",
              "      <td>6</td>\n",
              "      <td>276227177776</td>\n",
              "      <td>2</td>\n",
              "      <td>0</td>\n",
              "      <td>0</td>\n",
              "      <td>376</td>\n",
              "      <td>169321752432</td>\n",
              "      <td>...</td>\n",
              "      <td>[0.02902222, 0.02929688, 0.0295105, 0.0296936,...</td>\n",
              "      <td>7</td>\n",
              "      <td>SCHEDULE</td>\n",
              "      <td>0</td>\n",
              "      <td>0.048584</td>\n",
              "      <td>0.004166</td>\n",
              "      <td>0.024200</td>\n",
              "      <td>2.788544e-03</td>\n",
              "      <td>0.060059</td>\n",
              "      <td>2.845764e-03</td>\n",
              "    </tr>\n",
              "    <tr>\n",
              "      <th>3</th>\n",
              "      <td>3</td>\n",
              "      <td>0</td>\n",
              "      <td>3</td>\n",
              "      <td>2</td>\n",
              "      <td>10507389885</td>\n",
              "      <td>3</td>\n",
              "      <td>0</td>\n",
              "      <td>0</td>\n",
              "      <td>1977</td>\n",
              "      <td>178294817221</td>\n",
              "      <td>...</td>\n",
              "      <td>[0.05535889, 0.05584717, 0.05633545, 0.0571899...</td>\n",
              "      <td>8</td>\n",
              "      <td>FAIL</td>\n",
              "      <td>1</td>\n",
              "      <td>0.070435</td>\n",
              "      <td>0.041626</td>\n",
              "      <td>0.047607</td>\n",
              "      <td>3.442383e-02</td>\n",
              "      <td>0.133301</td>\n",
              "      <td>3.466797e-02</td>\n",
              "    </tr>\n",
              "    <tr>\n",
              "      <th>4</th>\n",
              "      <td>4</td>\n",
              "      <td>1810627494172</td>\n",
              "      <td>0</td>\n",
              "      <td>3</td>\n",
              "      <td>25911621841</td>\n",
              "      <td>2</td>\n",
              "      <td>0</td>\n",
              "      <td>0</td>\n",
              "      <td>3907</td>\n",
              "      <td>231364893292</td>\n",
              "      <td>...</td>\n",
              "      <td>[0.00041485, 0.00041485, 0.00041485, 0.0004148...</td>\n",
              "      <td>2</td>\n",
              "      <td>FINISH</td>\n",
              "      <td>0</td>\n",
              "      <td>0.002449</td>\n",
              "      <td>0.000232</td>\n",
              "      <td>0.000271</td>\n",
              "      <td>7.629395e-05</td>\n",
              "      <td>0.000415</td>\n",
              "      <td>7.629395e-05</td>\n",
              "    </tr>\n",
              "  </tbody>\n",
              "</table>\n",
              "<p>5 rows × 35 columns</p>\n",
              "</div>\n",
              "    <div class=\"colab-df-buttons\">\n",
              "\n",
              "  <div class=\"colab-df-container\">\n",
              "    <button class=\"colab-df-convert\" onclick=\"convertToInteractive('df-8ca91a29-492e-439b-90d1-efcb77ede4cf')\"\n",
              "            title=\"Convert this dataframe to an interactive table.\"\n",
              "            style=\"display:none;\">\n",
              "\n",
              "  <svg xmlns=\"http://www.w3.org/2000/svg\" height=\"24px\" viewBox=\"0 -960 960 960\">\n",
              "    <path d=\"M120-120v-720h720v720H120Zm60-500h600v-160H180v160Zm220 220h160v-160H400v160Zm0 220h160v-160H400v160ZM180-400h160v-160H180v160Zm440 0h160v-160H620v160ZM180-180h160v-160H180v160Zm440 0h160v-160H620v160Z\"/>\n",
              "  </svg>\n",
              "    </button>\n",
              "\n",
              "  <style>\n",
              "    .colab-df-container {\n",
              "      display:flex;\n",
              "      gap: 12px;\n",
              "    }\n",
              "\n",
              "    .colab-df-convert {\n",
              "      background-color: #E8F0FE;\n",
              "      border: none;\n",
              "      border-radius: 50%;\n",
              "      cursor: pointer;\n",
              "      display: none;\n",
              "      fill: #1967D2;\n",
              "      height: 32px;\n",
              "      padding: 0 0 0 0;\n",
              "      width: 32px;\n",
              "    }\n",
              "\n",
              "    .colab-df-convert:hover {\n",
              "      background-color: #E2EBFA;\n",
              "      box-shadow: 0px 1px 2px rgba(60, 64, 67, 0.3), 0px 1px 3px 1px rgba(60, 64, 67, 0.15);\n",
              "      fill: #174EA6;\n",
              "    }\n",
              "\n",
              "    .colab-df-buttons div {\n",
              "      margin-bottom: 4px;\n",
              "    }\n",
              "\n",
              "    [theme=dark] .colab-df-convert {\n",
              "      background-color: #3B4455;\n",
              "      fill: #D2E3FC;\n",
              "    }\n",
              "\n",
              "    [theme=dark] .colab-df-convert:hover {\n",
              "      background-color: #434B5C;\n",
              "      box-shadow: 0px 1px 3px 1px rgba(0, 0, 0, 0.15);\n",
              "      filter: drop-shadow(0px 1px 2px rgba(0, 0, 0, 0.3));\n",
              "      fill: #FFFFFF;\n",
              "    }\n",
              "  </style>\n",
              "\n",
              "    <script>\n",
              "      const buttonEl =\n",
              "        document.querySelector('#df-8ca91a29-492e-439b-90d1-efcb77ede4cf button.colab-df-convert');\n",
              "      buttonEl.style.display =\n",
              "        google.colab.kernel.accessAllowed ? 'block' : 'none';\n",
              "\n",
              "      async function convertToInteractive(key) {\n",
              "        const element = document.querySelector('#df-8ca91a29-492e-439b-90d1-efcb77ede4cf');\n",
              "        const dataTable =\n",
              "          await google.colab.kernel.invokeFunction('convertToInteractive',\n",
              "                                                    [key], {});\n",
              "        if (!dataTable) return;\n",
              "\n",
              "        const docLinkHtml = 'Like what you see? Visit the ' +\n",
              "          '<a target=\"_blank\" href=https://colab.research.google.com/notebooks/data_table.ipynb>data table notebook</a>'\n",
              "          + ' to learn more about interactive tables.';\n",
              "        element.innerHTML = '';\n",
              "        dataTable['output_type'] = 'display_data';\n",
              "        await google.colab.output.renderOutput(dataTable, element);\n",
              "        const docLink = document.createElement('div');\n",
              "        docLink.innerHTML = docLinkHtml;\n",
              "        element.appendChild(docLink);\n",
              "      }\n",
              "    </script>\n",
              "  </div>\n",
              "\n",
              "\n",
              "<div id=\"df-59e7a4ca-ef64-422c-bdf0-506a4825fcfb\">\n",
              "  <button class=\"colab-df-quickchart\" onclick=\"quickchart('df-59e7a4ca-ef64-422c-bdf0-506a4825fcfb')\"\n",
              "            title=\"Suggest charts.\"\n",
              "            style=\"display:none;\">\n",
              "\n",
              "<svg xmlns=\"http://www.w3.org/2000/svg\" height=\"24px\"viewBox=\"0 0 24 24\"\n",
              "     width=\"24px\">\n",
              "    <g>\n",
              "        <path d=\"M19 3H5c-1.1 0-2 .9-2 2v14c0 1.1.9 2 2 2h14c1.1 0 2-.9 2-2V5c0-1.1-.9-2-2-2zM9 17H7v-7h2v7zm4 0h-2V7h2v10zm4 0h-2v-4h2v4z\"/>\n",
              "    </g>\n",
              "</svg>\n",
              "  </button>\n",
              "\n",
              "<style>\n",
              "  .colab-df-quickchart {\n",
              "      --bg-color: #E8F0FE;\n",
              "      --fill-color: #1967D2;\n",
              "      --hover-bg-color: #E2EBFA;\n",
              "      --hover-fill-color: #174EA6;\n",
              "      --disabled-fill-color: #AAA;\n",
              "      --disabled-bg-color: #DDD;\n",
              "  }\n",
              "\n",
              "  [theme=dark] .colab-df-quickchart {\n",
              "      --bg-color: #3B4455;\n",
              "      --fill-color: #D2E3FC;\n",
              "      --hover-bg-color: #434B5C;\n",
              "      --hover-fill-color: #FFFFFF;\n",
              "      --disabled-bg-color: #3B4455;\n",
              "      --disabled-fill-color: #666;\n",
              "  }\n",
              "\n",
              "  .colab-df-quickchart {\n",
              "    background-color: var(--bg-color);\n",
              "    border: none;\n",
              "    border-radius: 50%;\n",
              "    cursor: pointer;\n",
              "    display: none;\n",
              "    fill: var(--fill-color);\n",
              "    height: 32px;\n",
              "    padding: 0;\n",
              "    width: 32px;\n",
              "  }\n",
              "\n",
              "  .colab-df-quickchart:hover {\n",
              "    background-color: var(--hover-bg-color);\n",
              "    box-shadow: 0 1px 2px rgba(60, 64, 67, 0.3), 0 1px 3px 1px rgba(60, 64, 67, 0.15);\n",
              "    fill: var(--button-hover-fill-color);\n",
              "  }\n",
              "\n",
              "  .colab-df-quickchart-complete:disabled,\n",
              "  .colab-df-quickchart-complete:disabled:hover {\n",
              "    background-color: var(--disabled-bg-color);\n",
              "    fill: var(--disabled-fill-color);\n",
              "    box-shadow: none;\n",
              "  }\n",
              "\n",
              "  .colab-df-spinner {\n",
              "    border: 2px solid var(--fill-color);\n",
              "    border-color: transparent;\n",
              "    border-bottom-color: var(--fill-color);\n",
              "    animation:\n",
              "      spin 1s steps(1) infinite;\n",
              "  }\n",
              "\n",
              "  @keyframes spin {\n",
              "    0% {\n",
              "      border-color: transparent;\n",
              "      border-bottom-color: var(--fill-color);\n",
              "      border-left-color: var(--fill-color);\n",
              "    }\n",
              "    20% {\n",
              "      border-color: transparent;\n",
              "      border-left-color: var(--fill-color);\n",
              "      border-top-color: var(--fill-color);\n",
              "    }\n",
              "    30% {\n",
              "      border-color: transparent;\n",
              "      border-left-color: var(--fill-color);\n",
              "      border-top-color: var(--fill-color);\n",
              "      border-right-color: var(--fill-color);\n",
              "    }\n",
              "    40% {\n",
              "      border-color: transparent;\n",
              "      border-right-color: var(--fill-color);\n",
              "      border-top-color: var(--fill-color);\n",
              "    }\n",
              "    60% {\n",
              "      border-color: transparent;\n",
              "      border-right-color: var(--fill-color);\n",
              "    }\n",
              "    80% {\n",
              "      border-color: transparent;\n",
              "      border-right-color: var(--fill-color);\n",
              "      border-bottom-color: var(--fill-color);\n",
              "    }\n",
              "    90% {\n",
              "      border-color: transparent;\n",
              "      border-bottom-color: var(--fill-color);\n",
              "    }\n",
              "  }\n",
              "</style>\n",
              "\n",
              "  <script>\n",
              "    async function quickchart(key) {\n",
              "      const quickchartButtonEl =\n",
              "        document.querySelector('#' + key + ' button');\n",
              "      quickchartButtonEl.disabled = true;  // To prevent multiple clicks.\n",
              "      quickchartButtonEl.classList.add('colab-df-spinner');\n",
              "      try {\n",
              "        const charts = await google.colab.kernel.invokeFunction(\n",
              "            'suggestCharts', [key], {});\n",
              "      } catch (error) {\n",
              "        console.error('Error during call to suggestCharts:', error);\n",
              "      }\n",
              "      quickchartButtonEl.classList.remove('colab-df-spinner');\n",
              "      quickchartButtonEl.classList.add('colab-df-quickchart-complete');\n",
              "    }\n",
              "    (() => {\n",
              "      let quickchartButtonEl =\n",
              "        document.querySelector('#df-59e7a4ca-ef64-422c-bdf0-506a4825fcfb button');\n",
              "      quickchartButtonEl.style.display =\n",
              "        google.colab.kernel.accessAllowed ? 'block' : 'none';\n",
              "    })();\n",
              "  </script>\n",
              "</div>\n",
              "    </div>\n",
              "  </div>\n"
            ]
          },
          "metadata": {},
          "execution_count": 19
        }
      ],
      "source": [
        "df.head()"
      ]
    },
    {
      "cell_type": "code",
      "execution_count": 20,
      "metadata": {
        "colab": {
          "base_uri": "https://localhost:8080/"
        },
        "id": "NWJVpCjgXFh4",
        "outputId": "87ddbc25-3673-4933-f36f-d69a482a3321"
      },
      "outputs": [
        {
          "output_type": "execute_result",
          "data": {
            "text/plain": [
              "0         612\n",
              "1         218\n",
              "2          30\n",
              "3         149\n",
              "4           6\n",
              "         ... \n",
              "405889    672\n",
              "405890    218\n",
              "405891     19\n",
              "405892    672\n",
              "405893    218\n",
              "Name: user, Length: 405894, dtype: int64"
            ]
          },
          "metadata": {},
          "execution_count": 20
        }
      ],
      "source": [
        "#Encode the column 'user' from string to integer\n",
        "\n",
        "# Initialize the LabelEncoder\n",
        "label_encoder = LabelEncoder()\n",
        "\n",
        "# Fit the encoder on the string labels and transform them to float labels\n",
        "df['user'] = label_encoder.fit_transform(df['user'])\n",
        "df['user']"
      ]
    },
    {
      "cell_type": "code",
      "execution_count": 21,
      "metadata": {
        "id": "AnLbiTymYSO7"
      },
      "outputs": [],
      "source": [
        "df['event'] = label_encoder.fit_transform(df['event'])"
      ]
    },
    {
      "cell_type": "code",
      "execution_count": 22,
      "metadata": {
        "id": "Uxg_15Nvoj3F"
      },
      "outputs": [],
      "source": [
        "#Drop the intermediate columns which are not useful\n",
        "df.drop(['cpu_usage_distribution','tail_cpu_usage_distribution'], axis=1, inplace=True)"
      ]
    },
    {
      "cell_type": "code",
      "execution_count": 23,
      "metadata": {
        "colab": {
          "base_uri": "https://localhost:8080/"
        },
        "id": "XZsYeBpEeBYE",
        "outputId": "96b391ee-6645-445e-d127-9c763c9dafca"
      },
      "outputs": [
        {
          "output_type": "stream",
          "name": "stdout",
          "text": [
            "<class 'pandas.core.frame.DataFrame'>\n",
            "RangeIndex: 405894 entries, 0 to 405893\n",
            "Data columns (total 33 columns):\n",
            " #   Column                      Non-Null Count   Dtype  \n",
            "---  ------                      --------------   -----  \n",
            " 0   Unnamed: 0                  405894 non-null  int64  \n",
            " 1   time                        405894 non-null  int64  \n",
            " 2   priority                    405894 non-null  int64  \n",
            " 3   instance_events_type        405894 non-null  int64  \n",
            " 4   collection_id               405894 non-null  int64  \n",
            " 5   scheduling_class            405894 non-null  int64  \n",
            " 6   collection_type             405894 non-null  int64  \n",
            " 7   alloc_collection_id         405894 non-null  int64  \n",
            " 8   instance_index              405894 non-null  int64  \n",
            " 9   machine_id                  405894 non-null  int64  \n",
            " 10  constraint                  405894 non-null  object \n",
            " 11  collections_events_type     405894 non-null  int64  \n",
            " 12  user                        405894 non-null  int64  \n",
            " 13  collection_name             405894 non-null  object \n",
            " 14  collection_logical_name     405894 non-null  object \n",
            " 15  start_after_collection_ids  405894 non-null  object \n",
            " 16  vertical_scaling            404935 non-null  float64\n",
            " 17  scheduler                   404935 non-null  float64\n",
            " 18  start_time                  405894 non-null  int64  \n",
            " 19  end_time                    405894 non-null  int64  \n",
            " 20  random_sample_usage         405894 non-null  object \n",
            " 21  assigned_memory             405894 non-null  float64\n",
            " 22  page_cache_memory           405894 non-null  float64\n",
            " 23  sample_rate                 405894 non-null  float64\n",
            " 24  cluster                     405894 non-null  int64  \n",
            " 25  event                       405894 non-null  int64  \n",
            " 26  failed                      405894 non-null  int64  \n",
            " 27  cpu_resource_request        405120 non-null  float64\n",
            " 28  memory_resource_request     405120 non-null  float64\n",
            " 29  cpu_avg_usage               405894 non-null  float64\n",
            " 30  memory_avg_usage            405894 non-null  float64\n",
            " 31  cpu_max_usage               405894 non-null  float64\n",
            " 32  memory_max_usage            405894 non-null  float64\n",
            "dtypes: float64(11), int64(17), object(5)\n",
            "memory usage: 102.2+ MB\n"
          ]
        }
      ],
      "source": [
        "df.info()"
      ]
    },
    {
      "cell_type": "code",
      "execution_count": 24,
      "metadata": {
        "id": "Z88X6hD5eBH0"
      },
      "outputs": [],
      "source": [
        " #Drop the intermediate columns which are not useful\n",
        "df.drop(['constraint', 'collection_name','collection_logical_name',\n",
        "         'start_after_collection_ids','random_sample_usage'], axis=1, inplace=True)\n"
      ]
    },
    {
      "cell_type": "code",
      "execution_count": 25,
      "metadata": {
        "id": "qRBJ36e3hnE2"
      },
      "outputs": [],
      "source": [
        "# Remove rows with NaN values\n",
        "df = df.dropna()"
      ]
    },
    {
      "cell_type": "code",
      "execution_count": 26,
      "metadata": {
        "colab": {
          "base_uri": "https://localhost:8080/",
          "height": 461
        },
        "id": "waOEaym5zVik",
        "outputId": "53297f6c-48cb-4d8c-aaaa-c94d377bfab3"
      },
      "outputs": [
        {
          "output_type": "execute_result",
          "data": {
            "text/plain": [
              "        Unnamed: 0           time  priority  instance_events_type  \\\n",
              "0                0              0         3                     2   \n",
              "1                1  2517305308183         4                     2   \n",
              "2                2   195684022913         1                     6   \n",
              "3                3              0         3                     2   \n",
              "4                4  1810627494172         0                     3   \n",
              "...            ...            ...       ...                   ...   \n",
              "405889      405889              0         2                     2   \n",
              "405890      405890    18279167039         4                     0   \n",
              "405891      405891   733307641549         3                     3   \n",
              "405892      405892  1984523129238         2                     2   \n",
              "405893      405893  1478177324880         4                     5   \n",
              "\n",
              "        collection_id  scheduling_class  collection_type  alloc_collection_id  \\\n",
              "0         94591244395                 3                1                    0   \n",
              "1        260697606809                 2                0         221495397286   \n",
              "2        276227177776                 2                0                    0   \n",
              "3         10507389885                 3                0                    0   \n",
              "4         25911621841                 2                0                    0   \n",
              "...               ...               ...              ...                  ...   \n",
              "405889   299950285958                 1                0                    0   \n",
              "405890   330587213089                 2                0         330587120885   \n",
              "405891    13748637767                 3                0          13748635759   \n",
              "405892   323372663325                 1                0                    0   \n",
              "405893   478343152042                 2                0         369591499035   \n",
              "\n",
              "        instance_index    machine_id  ...  sample_rate  cluster  event  \\\n",
              "0                  144  168846390496  ...     1.000000        7      2   \n",
              "1                  335      85515092  ...     1.000000        7      2   \n",
              "2                  376  169321752432  ...     1.000000        7      7   \n",
              "3                 1977  178294817221  ...     1.000000        8      2   \n",
              "4                 3907  231364893292  ...     1.000000        2      3   \n",
              "...                ...           ...  ...          ...      ...    ...   \n",
              "405889            1341   10625460233  ...     1.000000        8      2   \n",
              "405890             898   68669881389  ...     1.000000        1      0   \n",
              "405891            1959  126641993288  ...     1.000000        2      3   \n",
              "405892            6452  191941429308  ...     0.996667        8      2   \n",
              "405893              87   32343328225  ...     1.000000        2      5   \n",
              "\n",
              "        failed  cpu_resource_request  memory_resource_request  cpu_avg_usage  \\\n",
              "0            1              0.020660                 0.014435       0.004662   \n",
              "1            1              0.007240                 0.001303       0.000000   \n",
              "2            0              0.048584                 0.004166       0.024200   \n",
              "3            1              0.070435                 0.041626       0.047607   \n",
              "4            0              0.002449                 0.000232       0.000271   \n",
              "...        ...                   ...                      ...            ...   \n",
              "405889       1              0.035950                 0.015488       0.015320   \n",
              "405890       0              0.021973                 0.001303       0.038147   \n",
              "405891       0              0.121460                 0.082642       0.023560   \n",
              "405892       1              0.005669                 0.001562       0.006004   \n",
              "405893       0              0.016296                 0.001303       0.011993   \n",
              "\n",
              "        memory_avg_usage  cpu_max_usage  memory_max_usage  \n",
              "0           5.920410e-03       0.011902      5.935669e-03  \n",
              "1           9.536743e-07       0.000000      9.536743e-07  \n",
              "2           2.788544e-03       0.060059      2.845764e-03  \n",
              "3           3.442383e-02       0.133301      3.466797e-02  \n",
              "4           7.629395e-05       0.000415      7.629395e-05  \n",
              "...                  ...            ...               ...  \n",
              "405889      1.501083e-03       0.048340      1.802444e-03  \n",
              "405890      1.998901e-02       0.091797      2.047729e-02  \n",
              "405891      7.580566e-02       0.062500      7.580566e-02  \n",
              "405892      9.822845e-04       0.018433      1.380920e-03  \n",
              "405893      8.544922e-03       0.072021      1.286316e-02  \n",
              "\n",
              "[404161 rows x 28 columns]"
            ],
            "text/html": [
              "\n",
              "  <div id=\"df-a9f9dbeb-8dae-4d13-92b3-8aa30d1b62c3\" class=\"colab-df-container\">\n",
              "    <div>\n",
              "<style scoped>\n",
              "    .dataframe tbody tr th:only-of-type {\n",
              "        vertical-align: middle;\n",
              "    }\n",
              "\n",
              "    .dataframe tbody tr th {\n",
              "        vertical-align: top;\n",
              "    }\n",
              "\n",
              "    .dataframe thead th {\n",
              "        text-align: right;\n",
              "    }\n",
              "</style>\n",
              "<table border=\"1\" class=\"dataframe\">\n",
              "  <thead>\n",
              "    <tr style=\"text-align: right;\">\n",
              "      <th></th>\n",
              "      <th>Unnamed: 0</th>\n",
              "      <th>time</th>\n",
              "      <th>priority</th>\n",
              "      <th>instance_events_type</th>\n",
              "      <th>collection_id</th>\n",
              "      <th>scheduling_class</th>\n",
              "      <th>collection_type</th>\n",
              "      <th>alloc_collection_id</th>\n",
              "      <th>instance_index</th>\n",
              "      <th>machine_id</th>\n",
              "      <th>...</th>\n",
              "      <th>sample_rate</th>\n",
              "      <th>cluster</th>\n",
              "      <th>event</th>\n",
              "      <th>failed</th>\n",
              "      <th>cpu_resource_request</th>\n",
              "      <th>memory_resource_request</th>\n",
              "      <th>cpu_avg_usage</th>\n",
              "      <th>memory_avg_usage</th>\n",
              "      <th>cpu_max_usage</th>\n",
              "      <th>memory_max_usage</th>\n",
              "    </tr>\n",
              "  </thead>\n",
              "  <tbody>\n",
              "    <tr>\n",
              "      <th>0</th>\n",
              "      <td>0</td>\n",
              "      <td>0</td>\n",
              "      <td>3</td>\n",
              "      <td>2</td>\n",
              "      <td>94591244395</td>\n",
              "      <td>3</td>\n",
              "      <td>1</td>\n",
              "      <td>0</td>\n",
              "      <td>144</td>\n",
              "      <td>168846390496</td>\n",
              "      <td>...</td>\n",
              "      <td>1.000000</td>\n",
              "      <td>7</td>\n",
              "      <td>2</td>\n",
              "      <td>1</td>\n",
              "      <td>0.020660</td>\n",
              "      <td>0.014435</td>\n",
              "      <td>0.004662</td>\n",
              "      <td>5.920410e-03</td>\n",
              "      <td>0.011902</td>\n",
              "      <td>5.935669e-03</td>\n",
              "    </tr>\n",
              "    <tr>\n",
              "      <th>1</th>\n",
              "      <td>1</td>\n",
              "      <td>2517305308183</td>\n",
              "      <td>4</td>\n",
              "      <td>2</td>\n",
              "      <td>260697606809</td>\n",
              "      <td>2</td>\n",
              "      <td>0</td>\n",
              "      <td>221495397286</td>\n",
              "      <td>335</td>\n",
              "      <td>85515092</td>\n",
              "      <td>...</td>\n",
              "      <td>1.000000</td>\n",
              "      <td>7</td>\n",
              "      <td>2</td>\n",
              "      <td>1</td>\n",
              "      <td>0.007240</td>\n",
              "      <td>0.001303</td>\n",
              "      <td>0.000000</td>\n",
              "      <td>9.536743e-07</td>\n",
              "      <td>0.000000</td>\n",
              "      <td>9.536743e-07</td>\n",
              "    </tr>\n",
              "    <tr>\n",
              "      <th>2</th>\n",
              "      <td>2</td>\n",
              "      <td>195684022913</td>\n",
              "      <td>1</td>\n",
              "      <td>6</td>\n",
              "      <td>276227177776</td>\n",
              "      <td>2</td>\n",
              "      <td>0</td>\n",
              "      <td>0</td>\n",
              "      <td>376</td>\n",
              "      <td>169321752432</td>\n",
              "      <td>...</td>\n",
              "      <td>1.000000</td>\n",
              "      <td>7</td>\n",
              "      <td>7</td>\n",
              "      <td>0</td>\n",
              "      <td>0.048584</td>\n",
              "      <td>0.004166</td>\n",
              "      <td>0.024200</td>\n",
              "      <td>2.788544e-03</td>\n",
              "      <td>0.060059</td>\n",
              "      <td>2.845764e-03</td>\n",
              "    </tr>\n",
              "    <tr>\n",
              "      <th>3</th>\n",
              "      <td>3</td>\n",
              "      <td>0</td>\n",
              "      <td>3</td>\n",
              "      <td>2</td>\n",
              "      <td>10507389885</td>\n",
              "      <td>3</td>\n",
              "      <td>0</td>\n",
              "      <td>0</td>\n",
              "      <td>1977</td>\n",
              "      <td>178294817221</td>\n",
              "      <td>...</td>\n",
              "      <td>1.000000</td>\n",
              "      <td>8</td>\n",
              "      <td>2</td>\n",
              "      <td>1</td>\n",
              "      <td>0.070435</td>\n",
              "      <td>0.041626</td>\n",
              "      <td>0.047607</td>\n",
              "      <td>3.442383e-02</td>\n",
              "      <td>0.133301</td>\n",
              "      <td>3.466797e-02</td>\n",
              "    </tr>\n",
              "    <tr>\n",
              "      <th>4</th>\n",
              "      <td>4</td>\n",
              "      <td>1810627494172</td>\n",
              "      <td>0</td>\n",
              "      <td>3</td>\n",
              "      <td>25911621841</td>\n",
              "      <td>2</td>\n",
              "      <td>0</td>\n",
              "      <td>0</td>\n",
              "      <td>3907</td>\n",
              "      <td>231364893292</td>\n",
              "      <td>...</td>\n",
              "      <td>1.000000</td>\n",
              "      <td>2</td>\n",
              "      <td>3</td>\n",
              "      <td>0</td>\n",
              "      <td>0.002449</td>\n",
              "      <td>0.000232</td>\n",
              "      <td>0.000271</td>\n",
              "      <td>7.629395e-05</td>\n",
              "      <td>0.000415</td>\n",
              "      <td>7.629395e-05</td>\n",
              "    </tr>\n",
              "    <tr>\n",
              "      <th>...</th>\n",
              "      <td>...</td>\n",
              "      <td>...</td>\n",
              "      <td>...</td>\n",
              "      <td>...</td>\n",
              "      <td>...</td>\n",
              "      <td>...</td>\n",
              "      <td>...</td>\n",
              "      <td>...</td>\n",
              "      <td>...</td>\n",
              "      <td>...</td>\n",
              "      <td>...</td>\n",
              "      <td>...</td>\n",
              "      <td>...</td>\n",
              "      <td>...</td>\n",
              "      <td>...</td>\n",
              "      <td>...</td>\n",
              "      <td>...</td>\n",
              "      <td>...</td>\n",
              "      <td>...</td>\n",
              "      <td>...</td>\n",
              "      <td>...</td>\n",
              "    </tr>\n",
              "    <tr>\n",
              "      <th>405889</th>\n",
              "      <td>405889</td>\n",
              "      <td>0</td>\n",
              "      <td>2</td>\n",
              "      <td>2</td>\n",
              "      <td>299950285958</td>\n",
              "      <td>1</td>\n",
              "      <td>0</td>\n",
              "      <td>0</td>\n",
              "      <td>1341</td>\n",
              "      <td>10625460233</td>\n",
              "      <td>...</td>\n",
              "      <td>1.000000</td>\n",
              "      <td>8</td>\n",
              "      <td>2</td>\n",
              "      <td>1</td>\n",
              "      <td>0.035950</td>\n",
              "      <td>0.015488</td>\n",
              "      <td>0.015320</td>\n",
              "      <td>1.501083e-03</td>\n",
              "      <td>0.048340</td>\n",
              "      <td>1.802444e-03</td>\n",
              "    </tr>\n",
              "    <tr>\n",
              "      <th>405890</th>\n",
              "      <td>405890</td>\n",
              "      <td>18279167039</td>\n",
              "      <td>4</td>\n",
              "      <td>0</td>\n",
              "      <td>330587213089</td>\n",
              "      <td>2</td>\n",
              "      <td>0</td>\n",
              "      <td>330587120885</td>\n",
              "      <td>898</td>\n",
              "      <td>68669881389</td>\n",
              "      <td>...</td>\n",
              "      <td>1.000000</td>\n",
              "      <td>1</td>\n",
              "      <td>0</td>\n",
              "      <td>0</td>\n",
              "      <td>0.021973</td>\n",
              "      <td>0.001303</td>\n",
              "      <td>0.038147</td>\n",
              "      <td>1.998901e-02</td>\n",
              "      <td>0.091797</td>\n",
              "      <td>2.047729e-02</td>\n",
              "    </tr>\n",
              "    <tr>\n",
              "      <th>405891</th>\n",
              "      <td>405891</td>\n",
              "      <td>733307641549</td>\n",
              "      <td>3</td>\n",
              "      <td>3</td>\n",
              "      <td>13748637767</td>\n",
              "      <td>3</td>\n",
              "      <td>0</td>\n",
              "      <td>13748635759</td>\n",
              "      <td>1959</td>\n",
              "      <td>126641993288</td>\n",
              "      <td>...</td>\n",
              "      <td>1.000000</td>\n",
              "      <td>2</td>\n",
              "      <td>3</td>\n",
              "      <td>0</td>\n",
              "      <td>0.121460</td>\n",
              "      <td>0.082642</td>\n",
              "      <td>0.023560</td>\n",
              "      <td>7.580566e-02</td>\n",
              "      <td>0.062500</td>\n",
              "      <td>7.580566e-02</td>\n",
              "    </tr>\n",
              "    <tr>\n",
              "      <th>405892</th>\n",
              "      <td>405892</td>\n",
              "      <td>1984523129238</td>\n",
              "      <td>2</td>\n",
              "      <td>2</td>\n",
              "      <td>323372663325</td>\n",
              "      <td>1</td>\n",
              "      <td>0</td>\n",
              "      <td>0</td>\n",
              "      <td>6452</td>\n",
              "      <td>191941429308</td>\n",
              "      <td>...</td>\n",
              "      <td>0.996667</td>\n",
              "      <td>8</td>\n",
              "      <td>2</td>\n",
              "      <td>1</td>\n",
              "      <td>0.005669</td>\n",
              "      <td>0.001562</td>\n",
              "      <td>0.006004</td>\n",
              "      <td>9.822845e-04</td>\n",
              "      <td>0.018433</td>\n",
              "      <td>1.380920e-03</td>\n",
              "    </tr>\n",
              "    <tr>\n",
              "      <th>405893</th>\n",
              "      <td>405893</td>\n",
              "      <td>1478177324880</td>\n",
              "      <td>4</td>\n",
              "      <td>5</td>\n",
              "      <td>478343152042</td>\n",
              "      <td>2</td>\n",
              "      <td>0</td>\n",
              "      <td>369591499035</td>\n",
              "      <td>87</td>\n",
              "      <td>32343328225</td>\n",
              "      <td>...</td>\n",
              "      <td>1.000000</td>\n",
              "      <td>2</td>\n",
              "      <td>5</td>\n",
              "      <td>0</td>\n",
              "      <td>0.016296</td>\n",
              "      <td>0.001303</td>\n",
              "      <td>0.011993</td>\n",
              "      <td>8.544922e-03</td>\n",
              "      <td>0.072021</td>\n",
              "      <td>1.286316e-02</td>\n",
              "    </tr>\n",
              "  </tbody>\n",
              "</table>\n",
              "<p>404161 rows × 28 columns</p>\n",
              "</div>\n",
              "    <div class=\"colab-df-buttons\">\n",
              "\n",
              "  <div class=\"colab-df-container\">\n",
              "    <button class=\"colab-df-convert\" onclick=\"convertToInteractive('df-a9f9dbeb-8dae-4d13-92b3-8aa30d1b62c3')\"\n",
              "            title=\"Convert this dataframe to an interactive table.\"\n",
              "            style=\"display:none;\">\n",
              "\n",
              "  <svg xmlns=\"http://www.w3.org/2000/svg\" height=\"24px\" viewBox=\"0 -960 960 960\">\n",
              "    <path d=\"M120-120v-720h720v720H120Zm60-500h600v-160H180v160Zm220 220h160v-160H400v160Zm0 220h160v-160H400v160ZM180-400h160v-160H180v160Zm440 0h160v-160H620v160ZM180-180h160v-160H180v160Zm440 0h160v-160H620v160Z\"/>\n",
              "  </svg>\n",
              "    </button>\n",
              "\n",
              "  <style>\n",
              "    .colab-df-container {\n",
              "      display:flex;\n",
              "      gap: 12px;\n",
              "    }\n",
              "\n",
              "    .colab-df-convert {\n",
              "      background-color: #E8F0FE;\n",
              "      border: none;\n",
              "      border-radius: 50%;\n",
              "      cursor: pointer;\n",
              "      display: none;\n",
              "      fill: #1967D2;\n",
              "      height: 32px;\n",
              "      padding: 0 0 0 0;\n",
              "      width: 32px;\n",
              "    }\n",
              "\n",
              "    .colab-df-convert:hover {\n",
              "      background-color: #E2EBFA;\n",
              "      box-shadow: 0px 1px 2px rgba(60, 64, 67, 0.3), 0px 1px 3px 1px rgba(60, 64, 67, 0.15);\n",
              "      fill: #174EA6;\n",
              "    }\n",
              "\n",
              "    .colab-df-buttons div {\n",
              "      margin-bottom: 4px;\n",
              "    }\n",
              "\n",
              "    [theme=dark] .colab-df-convert {\n",
              "      background-color: #3B4455;\n",
              "      fill: #D2E3FC;\n",
              "    }\n",
              "\n",
              "    [theme=dark] .colab-df-convert:hover {\n",
              "      background-color: #434B5C;\n",
              "      box-shadow: 0px 1px 3px 1px rgba(0, 0, 0, 0.15);\n",
              "      filter: drop-shadow(0px 1px 2px rgba(0, 0, 0, 0.3));\n",
              "      fill: #FFFFFF;\n",
              "    }\n",
              "  </style>\n",
              "\n",
              "    <script>\n",
              "      const buttonEl =\n",
              "        document.querySelector('#df-a9f9dbeb-8dae-4d13-92b3-8aa30d1b62c3 button.colab-df-convert');\n",
              "      buttonEl.style.display =\n",
              "        google.colab.kernel.accessAllowed ? 'block' : 'none';\n",
              "\n",
              "      async function convertToInteractive(key) {\n",
              "        const element = document.querySelector('#df-a9f9dbeb-8dae-4d13-92b3-8aa30d1b62c3');\n",
              "        const dataTable =\n",
              "          await google.colab.kernel.invokeFunction('convertToInteractive',\n",
              "                                                    [key], {});\n",
              "        if (!dataTable) return;\n",
              "\n",
              "        const docLinkHtml = 'Like what you see? Visit the ' +\n",
              "          '<a target=\"_blank\" href=https://colab.research.google.com/notebooks/data_table.ipynb>data table notebook</a>'\n",
              "          + ' to learn more about interactive tables.';\n",
              "        element.innerHTML = '';\n",
              "        dataTable['output_type'] = 'display_data';\n",
              "        await google.colab.output.renderOutput(dataTable, element);\n",
              "        const docLink = document.createElement('div');\n",
              "        docLink.innerHTML = docLinkHtml;\n",
              "        element.appendChild(docLink);\n",
              "      }\n",
              "    </script>\n",
              "  </div>\n",
              "\n",
              "\n",
              "<div id=\"df-99f50aac-2d38-49f0-a098-59b39fc8e8a9\">\n",
              "  <button class=\"colab-df-quickchart\" onclick=\"quickchart('df-99f50aac-2d38-49f0-a098-59b39fc8e8a9')\"\n",
              "            title=\"Suggest charts.\"\n",
              "            style=\"display:none;\">\n",
              "\n",
              "<svg xmlns=\"http://www.w3.org/2000/svg\" height=\"24px\"viewBox=\"0 0 24 24\"\n",
              "     width=\"24px\">\n",
              "    <g>\n",
              "        <path d=\"M19 3H5c-1.1 0-2 .9-2 2v14c0 1.1.9 2 2 2h14c1.1 0 2-.9 2-2V5c0-1.1-.9-2-2-2zM9 17H7v-7h2v7zm4 0h-2V7h2v10zm4 0h-2v-4h2v4z\"/>\n",
              "    </g>\n",
              "</svg>\n",
              "  </button>\n",
              "\n",
              "<style>\n",
              "  .colab-df-quickchart {\n",
              "      --bg-color: #E8F0FE;\n",
              "      --fill-color: #1967D2;\n",
              "      --hover-bg-color: #E2EBFA;\n",
              "      --hover-fill-color: #174EA6;\n",
              "      --disabled-fill-color: #AAA;\n",
              "      --disabled-bg-color: #DDD;\n",
              "  }\n",
              "\n",
              "  [theme=dark] .colab-df-quickchart {\n",
              "      --bg-color: #3B4455;\n",
              "      --fill-color: #D2E3FC;\n",
              "      --hover-bg-color: #434B5C;\n",
              "      --hover-fill-color: #FFFFFF;\n",
              "      --disabled-bg-color: #3B4455;\n",
              "      --disabled-fill-color: #666;\n",
              "  }\n",
              "\n",
              "  .colab-df-quickchart {\n",
              "    background-color: var(--bg-color);\n",
              "    border: none;\n",
              "    border-radius: 50%;\n",
              "    cursor: pointer;\n",
              "    display: none;\n",
              "    fill: var(--fill-color);\n",
              "    height: 32px;\n",
              "    padding: 0;\n",
              "    width: 32px;\n",
              "  }\n",
              "\n",
              "  .colab-df-quickchart:hover {\n",
              "    background-color: var(--hover-bg-color);\n",
              "    box-shadow: 0 1px 2px rgba(60, 64, 67, 0.3), 0 1px 3px 1px rgba(60, 64, 67, 0.15);\n",
              "    fill: var(--button-hover-fill-color);\n",
              "  }\n",
              "\n",
              "  .colab-df-quickchart-complete:disabled,\n",
              "  .colab-df-quickchart-complete:disabled:hover {\n",
              "    background-color: var(--disabled-bg-color);\n",
              "    fill: var(--disabled-fill-color);\n",
              "    box-shadow: none;\n",
              "  }\n",
              "\n",
              "  .colab-df-spinner {\n",
              "    border: 2px solid var(--fill-color);\n",
              "    border-color: transparent;\n",
              "    border-bottom-color: var(--fill-color);\n",
              "    animation:\n",
              "      spin 1s steps(1) infinite;\n",
              "  }\n",
              "\n",
              "  @keyframes spin {\n",
              "    0% {\n",
              "      border-color: transparent;\n",
              "      border-bottom-color: var(--fill-color);\n",
              "      border-left-color: var(--fill-color);\n",
              "    }\n",
              "    20% {\n",
              "      border-color: transparent;\n",
              "      border-left-color: var(--fill-color);\n",
              "      border-top-color: var(--fill-color);\n",
              "    }\n",
              "    30% {\n",
              "      border-color: transparent;\n",
              "      border-left-color: var(--fill-color);\n",
              "      border-top-color: var(--fill-color);\n",
              "      border-right-color: var(--fill-color);\n",
              "    }\n",
              "    40% {\n",
              "      border-color: transparent;\n",
              "      border-right-color: var(--fill-color);\n",
              "      border-top-color: var(--fill-color);\n",
              "    }\n",
              "    60% {\n",
              "      border-color: transparent;\n",
              "      border-right-color: var(--fill-color);\n",
              "    }\n",
              "    80% {\n",
              "      border-color: transparent;\n",
              "      border-right-color: var(--fill-color);\n",
              "      border-bottom-color: var(--fill-color);\n",
              "    }\n",
              "    90% {\n",
              "      border-color: transparent;\n",
              "      border-bottom-color: var(--fill-color);\n",
              "    }\n",
              "  }\n",
              "</style>\n",
              "\n",
              "  <script>\n",
              "    async function quickchart(key) {\n",
              "      const quickchartButtonEl =\n",
              "        document.querySelector('#' + key + ' button');\n",
              "      quickchartButtonEl.disabled = true;  // To prevent multiple clicks.\n",
              "      quickchartButtonEl.classList.add('colab-df-spinner');\n",
              "      try {\n",
              "        const charts = await google.colab.kernel.invokeFunction(\n",
              "            'suggestCharts', [key], {});\n",
              "      } catch (error) {\n",
              "        console.error('Error during call to suggestCharts:', error);\n",
              "      }\n",
              "      quickchartButtonEl.classList.remove('colab-df-spinner');\n",
              "      quickchartButtonEl.classList.add('colab-df-quickchart-complete');\n",
              "    }\n",
              "    (() => {\n",
              "      let quickchartButtonEl =\n",
              "        document.querySelector('#df-99f50aac-2d38-49f0-a098-59b39fc8e8a9 button');\n",
              "      quickchartButtonEl.style.display =\n",
              "        google.colab.kernel.accessAllowed ? 'block' : 'none';\n",
              "    })();\n",
              "  </script>\n",
              "</div>\n",
              "    </div>\n",
              "  </div>\n"
            ]
          },
          "metadata": {},
          "execution_count": 26
        }
      ],
      "source": [
        "df"
      ]
    },
    {
      "cell_type": "markdown",
      "metadata": {
        "id": "9fclYca0Cpra"
      },
      "source": [
        "Separate features (X) and target variable (y)"
      ]
    },
    {
      "cell_type": "code",
      "execution_count": 27,
      "metadata": {
        "id": "dKnXcenDIw9T"
      },
      "outputs": [],
      "source": [
        "# Separate features (X) and target variable (y)\n",
        "X = df.drop(\"failed\", axis=1) # Features\n",
        "y = df[\"failed\"]              # Target"
      ]
    },
    {
      "cell_type": "code",
      "execution_count": 28,
      "metadata": {
        "colab": {
          "base_uri": "https://localhost:8080/"
        },
        "id": "ub-fot50Mlfi",
        "outputId": "b33594be-0a49-4164-ea28-0ce77c3018e9"
      },
      "outputs": [
        {
          "output_type": "execute_result",
          "data": {
            "text/plain": [
              "(404161,)"
            ]
          },
          "metadata": {},
          "execution_count": 28
        }
      ],
      "source": [
        "y.shape"
      ]
    },
    {
      "cell_type": "code",
      "execution_count": 29,
      "metadata": {
        "colab": {
          "base_uri": "https://localhost:8080/"
        },
        "id": "39PJxCftMpsx",
        "outputId": "ad08fc21-0acf-4b39-8e06-ed914c7a2bf7"
      },
      "outputs": [
        {
          "output_type": "execute_result",
          "data": {
            "text/plain": [
              "(404161, 27)"
            ]
          },
          "metadata": {},
          "execution_count": 29
        }
      ],
      "source": [
        "X.shape"
      ]
    },
    {
      "cell_type": "code",
      "execution_count": 30,
      "metadata": {
        "id": "QxV1u8nnICOE"
      },
      "outputs": [],
      "source": [
        "import numpy as np\n",
        "from sklearn.model_selection import train_test_split\n",
        "\n",
        "# Assuming you have a dataset 'data' and corresponding labels 'labels'\n",
        "\n",
        "# Split the data into training (70%) and a temporary set (30%)\n",
        "X_train, X_temp, y_train, y_temp = train_test_split(X, y, test_size=0.3, random_state=42)\n",
        "\n",
        "# Split the temporary set into validation (50%) and testing (50%)\n",
        "X_val, X_test, y_val, y_test = train_test_split(X_temp, y_temp, test_size=0.5, random_state=42)\n",
        "\n",
        "# Now, you have X_train, y_train for training, X_val, y_val for validation, and X_test, y_test for testing.\n"
      ]
    },
    {
      "cell_type": "markdown",
      "metadata": {
        "id": "aDspHxfUvney"
      },
      "source": [
        "SVM"
      ]
    },
    {
      "cell_type": "code",
      "execution_count": 31,
      "metadata": {
        "id": "uteP4AwHydlE"
      },
      "outputs": [],
      "source": [
        "from sklearn.preprocessing import StandardScaler\n",
        "\n",
        "scaler = StandardScaler()\n",
        "X_train = scaler.fit_transform(X_train)\n",
        "X_test = scaler.transform(X_test)"
      ]
    },
    {
      "cell_type": "code",
      "execution_count": 32,
      "metadata": {
        "colab": {
          "base_uri": "https://localhost:8080/",
          "height": 129
        },
        "id": "1kmUjYA9vm7W",
        "outputId": "6ca1b8af-18ac-4cf9-9760-a8541181a52b"
      },
      "outputs": [
        {
          "output_type": "stream",
          "name": "stderr",
          "text": [
            "/usr/local/lib/python3.10/dist-packages/sklearn/svm/_base.py:299: ConvergenceWarning: Solver terminated early (max_iter=10).  Consider pre-processing your data with StandardScaler or MinMaxScaler.\n",
            "  warnings.warn(\n"
          ]
        },
        {
          "output_type": "execute_result",
          "data": {
            "text/plain": [
              "SVC(kernel='linear', max_iter=10)"
            ],
            "text/html": [
              "<style>#sk-container-id-1 {color: black;background-color: white;}#sk-container-id-1 pre{padding: 0;}#sk-container-id-1 div.sk-toggleable {background-color: white;}#sk-container-id-1 label.sk-toggleable__label {cursor: pointer;display: block;width: 100%;margin-bottom: 0;padding: 0.3em;box-sizing: border-box;text-align: center;}#sk-container-id-1 label.sk-toggleable__label-arrow:before {content: \"▸\";float: left;margin-right: 0.25em;color: #696969;}#sk-container-id-1 label.sk-toggleable__label-arrow:hover:before {color: black;}#sk-container-id-1 div.sk-estimator:hover label.sk-toggleable__label-arrow:before {color: black;}#sk-container-id-1 div.sk-toggleable__content {max-height: 0;max-width: 0;overflow: hidden;text-align: left;background-color: #f0f8ff;}#sk-container-id-1 div.sk-toggleable__content pre {margin: 0.2em;color: black;border-radius: 0.25em;background-color: #f0f8ff;}#sk-container-id-1 input.sk-toggleable__control:checked~div.sk-toggleable__content {max-height: 200px;max-width: 100%;overflow: auto;}#sk-container-id-1 input.sk-toggleable__control:checked~label.sk-toggleable__label-arrow:before {content: \"▾\";}#sk-container-id-1 div.sk-estimator input.sk-toggleable__control:checked~label.sk-toggleable__label {background-color: #d4ebff;}#sk-container-id-1 div.sk-label input.sk-toggleable__control:checked~label.sk-toggleable__label {background-color: #d4ebff;}#sk-container-id-1 input.sk-hidden--visually {border: 0;clip: rect(1px 1px 1px 1px);clip: rect(1px, 1px, 1px, 1px);height: 1px;margin: -1px;overflow: hidden;padding: 0;position: absolute;width: 1px;}#sk-container-id-1 div.sk-estimator {font-family: monospace;background-color: #f0f8ff;border: 1px dotted black;border-radius: 0.25em;box-sizing: border-box;margin-bottom: 0.5em;}#sk-container-id-1 div.sk-estimator:hover {background-color: #d4ebff;}#sk-container-id-1 div.sk-parallel-item::after {content: \"\";width: 100%;border-bottom: 1px solid gray;flex-grow: 1;}#sk-container-id-1 div.sk-label:hover label.sk-toggleable__label {background-color: #d4ebff;}#sk-container-id-1 div.sk-serial::before {content: \"\";position: absolute;border-left: 1px solid gray;box-sizing: border-box;top: 0;bottom: 0;left: 50%;z-index: 0;}#sk-container-id-1 div.sk-serial {display: flex;flex-direction: column;align-items: center;background-color: white;padding-right: 0.2em;padding-left: 0.2em;position: relative;}#sk-container-id-1 div.sk-item {position: relative;z-index: 1;}#sk-container-id-1 div.sk-parallel {display: flex;align-items: stretch;justify-content: center;background-color: white;position: relative;}#sk-container-id-1 div.sk-item::before, #sk-container-id-1 div.sk-parallel-item::before {content: \"\";position: absolute;border-left: 1px solid gray;box-sizing: border-box;top: 0;bottom: 0;left: 50%;z-index: -1;}#sk-container-id-1 div.sk-parallel-item {display: flex;flex-direction: column;z-index: 1;position: relative;background-color: white;}#sk-container-id-1 div.sk-parallel-item:first-child::after {align-self: flex-end;width: 50%;}#sk-container-id-1 div.sk-parallel-item:last-child::after {align-self: flex-start;width: 50%;}#sk-container-id-1 div.sk-parallel-item:only-child::after {width: 0;}#sk-container-id-1 div.sk-dashed-wrapped {border: 1px dashed gray;margin: 0 0.4em 0.5em 0.4em;box-sizing: border-box;padding-bottom: 0.4em;background-color: white;}#sk-container-id-1 div.sk-label label {font-family: monospace;font-weight: bold;display: inline-block;line-height: 1.2em;}#sk-container-id-1 div.sk-label-container {text-align: center;}#sk-container-id-1 div.sk-container {/* jupyter's `normalize.less` sets `[hidden] { display: none; }` but bootstrap.min.css set `[hidden] { display: none !important; }` so we also need the `!important` here to be able to override the default hidden behavior on the sphinx rendered scikit-learn.org. See: https://github.com/scikit-learn/scikit-learn/issues/21755 */display: inline-block !important;position: relative;}#sk-container-id-1 div.sk-text-repr-fallback {display: none;}</style><div id=\"sk-container-id-1\" class=\"sk-top-container\"><div class=\"sk-text-repr-fallback\"><pre>SVC(kernel=&#x27;linear&#x27;, max_iter=10)</pre><b>In a Jupyter environment, please rerun this cell to show the HTML representation or trust the notebook. <br />On GitHub, the HTML representation is unable to render, please try loading this page with nbviewer.org.</b></div><div class=\"sk-container\" hidden><div class=\"sk-item\"><div class=\"sk-estimator sk-toggleable\"><input class=\"sk-toggleable__control sk-hidden--visually\" id=\"sk-estimator-id-1\" type=\"checkbox\" checked><label for=\"sk-estimator-id-1\" class=\"sk-toggleable__label sk-toggleable__label-arrow\">SVC</label><div class=\"sk-toggleable__content\"><pre>SVC(kernel=&#x27;linear&#x27;, max_iter=10)</pre></div></div></div></div></div>"
            ]
          },
          "metadata": {},
          "execution_count": 32
        }
      ],
      "source": [
        "from sklearn.svm import SVC  # For classification problems\n",
        "# from sklearn.svm import SVR  # For regression problems\n",
        "\n",
        "# Create the SVM model\n",
        "svm_model = SVC(kernel='linear', C=1.0, max_iter=10)\n",
        "\n",
        "# Train the model\n",
        "svm_model.fit(X_train, y_train)\n"
      ]
    },
    {
      "cell_type": "code",
      "execution_count": 33,
      "metadata": {
        "id": "j6PA3dhjvvnH"
      },
      "outputs": [],
      "source": [
        "y_pred = svm_model.predict(X_test)"
      ]
    },
    {
      "cell_type": "code",
      "execution_count": 34,
      "metadata": {
        "colab": {
          "base_uri": "https://localhost:8080/"
        },
        "id": "JuAlxbngvzSR",
        "outputId": "21eeb98c-eb75-417e-f4dd-d14501f9822c"
      },
      "outputs": [
        {
          "output_type": "stream",
          "name": "stdout",
          "text": [
            "Accuracy: 0.25230515463917524\n",
            "              precision    recall  f1-score   support\n",
            "\n",
            "           0       0.95      0.03      0.07     46842\n",
            "           1       0.23      0.99      0.38     13783\n",
            "\n",
            "    accuracy                           0.25     60625\n",
            "   macro avg       0.59      0.51      0.22     60625\n",
            "weighted avg       0.79      0.25      0.14     60625\n",
            "\n"
          ]
        }
      ],
      "source": [
        "from sklearn.metrics import accuracy_score, classification_report\n",
        "\n",
        "accuracy = accuracy_score(y_test, y_pred)\n",
        "report = classification_report(y_test, y_pred)\n",
        "\n",
        "print(f\"Accuracy: {accuracy}\")\n",
        "print(report)"
      ]
    },
    {
      "cell_type": "markdown",
      "metadata": {
        "id": "IB4-o4Rd0oqc"
      },
      "source": [
        "Logistic Regression"
      ]
    },
    {
      "cell_type": "code",
      "execution_count": 35,
      "metadata": {
        "colab": {
          "base_uri": "https://localhost:8080/",
          "height": 74
        },
        "id": "s3ypFaHJ0oBz",
        "outputId": "f5a76447-e653-4f12-86f7-27c0de4b0f37"
      },
      "outputs": [
        {
          "output_type": "execute_result",
          "data": {
            "text/plain": [
              "LogisticRegression()"
            ],
            "text/html": [
              "<style>#sk-container-id-2 {color: black;background-color: white;}#sk-container-id-2 pre{padding: 0;}#sk-container-id-2 div.sk-toggleable {background-color: white;}#sk-container-id-2 label.sk-toggleable__label {cursor: pointer;display: block;width: 100%;margin-bottom: 0;padding: 0.3em;box-sizing: border-box;text-align: center;}#sk-container-id-2 label.sk-toggleable__label-arrow:before {content: \"▸\";float: left;margin-right: 0.25em;color: #696969;}#sk-container-id-2 label.sk-toggleable__label-arrow:hover:before {color: black;}#sk-container-id-2 div.sk-estimator:hover label.sk-toggleable__label-arrow:before {color: black;}#sk-container-id-2 div.sk-toggleable__content {max-height: 0;max-width: 0;overflow: hidden;text-align: left;background-color: #f0f8ff;}#sk-container-id-2 div.sk-toggleable__content pre {margin: 0.2em;color: black;border-radius: 0.25em;background-color: #f0f8ff;}#sk-container-id-2 input.sk-toggleable__control:checked~div.sk-toggleable__content {max-height: 200px;max-width: 100%;overflow: auto;}#sk-container-id-2 input.sk-toggleable__control:checked~label.sk-toggleable__label-arrow:before {content: \"▾\";}#sk-container-id-2 div.sk-estimator input.sk-toggleable__control:checked~label.sk-toggleable__label {background-color: #d4ebff;}#sk-container-id-2 div.sk-label input.sk-toggleable__control:checked~label.sk-toggleable__label {background-color: #d4ebff;}#sk-container-id-2 input.sk-hidden--visually {border: 0;clip: rect(1px 1px 1px 1px);clip: rect(1px, 1px, 1px, 1px);height: 1px;margin: -1px;overflow: hidden;padding: 0;position: absolute;width: 1px;}#sk-container-id-2 div.sk-estimator {font-family: monospace;background-color: #f0f8ff;border: 1px dotted black;border-radius: 0.25em;box-sizing: border-box;margin-bottom: 0.5em;}#sk-container-id-2 div.sk-estimator:hover {background-color: #d4ebff;}#sk-container-id-2 div.sk-parallel-item::after {content: \"\";width: 100%;border-bottom: 1px solid gray;flex-grow: 1;}#sk-container-id-2 div.sk-label:hover label.sk-toggleable__label {background-color: #d4ebff;}#sk-container-id-2 div.sk-serial::before {content: \"\";position: absolute;border-left: 1px solid gray;box-sizing: border-box;top: 0;bottom: 0;left: 50%;z-index: 0;}#sk-container-id-2 div.sk-serial {display: flex;flex-direction: column;align-items: center;background-color: white;padding-right: 0.2em;padding-left: 0.2em;position: relative;}#sk-container-id-2 div.sk-item {position: relative;z-index: 1;}#sk-container-id-2 div.sk-parallel {display: flex;align-items: stretch;justify-content: center;background-color: white;position: relative;}#sk-container-id-2 div.sk-item::before, #sk-container-id-2 div.sk-parallel-item::before {content: \"\";position: absolute;border-left: 1px solid gray;box-sizing: border-box;top: 0;bottom: 0;left: 50%;z-index: -1;}#sk-container-id-2 div.sk-parallel-item {display: flex;flex-direction: column;z-index: 1;position: relative;background-color: white;}#sk-container-id-2 div.sk-parallel-item:first-child::after {align-self: flex-end;width: 50%;}#sk-container-id-2 div.sk-parallel-item:last-child::after {align-self: flex-start;width: 50%;}#sk-container-id-2 div.sk-parallel-item:only-child::after {width: 0;}#sk-container-id-2 div.sk-dashed-wrapped {border: 1px dashed gray;margin: 0 0.4em 0.5em 0.4em;box-sizing: border-box;padding-bottom: 0.4em;background-color: white;}#sk-container-id-2 div.sk-label label {font-family: monospace;font-weight: bold;display: inline-block;line-height: 1.2em;}#sk-container-id-2 div.sk-label-container {text-align: center;}#sk-container-id-2 div.sk-container {/* jupyter's `normalize.less` sets `[hidden] { display: none; }` but bootstrap.min.css set `[hidden] { display: none !important; }` so we also need the `!important` here to be able to override the default hidden behavior on the sphinx rendered scikit-learn.org. See: https://github.com/scikit-learn/scikit-learn/issues/21755 */display: inline-block !important;position: relative;}#sk-container-id-2 div.sk-text-repr-fallback {display: none;}</style><div id=\"sk-container-id-2\" class=\"sk-top-container\"><div class=\"sk-text-repr-fallback\"><pre>LogisticRegression()</pre><b>In a Jupyter environment, please rerun this cell to show the HTML representation or trust the notebook. <br />On GitHub, the HTML representation is unable to render, please try loading this page with nbviewer.org.</b></div><div class=\"sk-container\" hidden><div class=\"sk-item\"><div class=\"sk-estimator sk-toggleable\"><input class=\"sk-toggleable__control sk-hidden--visually\" id=\"sk-estimator-id-2\" type=\"checkbox\" checked><label for=\"sk-estimator-id-2\" class=\"sk-toggleable__label sk-toggleable__label-arrow\">LogisticRegression</label><div class=\"sk-toggleable__content\"><pre>LogisticRegression()</pre></div></div></div></div></div>"
            ]
          },
          "metadata": {},
          "execution_count": 35
        }
      ],
      "source": [
        "from sklearn.linear_model import LogisticRegression\n",
        "\n",
        "# Create the Logistic Regression model\n",
        "logreg_model = LogisticRegression()\n",
        "\n",
        "# Train the model\n",
        "logreg_model.fit(X_train, y_train)"
      ]
    },
    {
      "cell_type": "code",
      "execution_count": 36,
      "metadata": {
        "id": "TqvjYM-T0yRQ"
      },
      "outputs": [],
      "source": [
        "y_pred1 = logreg_model.predict(X_test)"
      ]
    },
    {
      "cell_type": "code",
      "execution_count": 37,
      "metadata": {
        "colab": {
          "base_uri": "https://localhost:8080/"
        },
        "id": "JBj5Hecz02NO",
        "outputId": "91648768-cac3-4b16-9e81-6aa8b7ed6513"
      },
      "outputs": [
        {
          "output_type": "stream",
          "name": "stdout",
          "text": [
            "Accuracy: 0.7665649484536082\n",
            "              precision    recall  f1-score   support\n",
            "\n",
            "           0       0.79      0.96      0.86     46842\n",
            "           1       0.45      0.12      0.19     13783\n",
            "\n",
            "    accuracy                           0.77     60625\n",
            "   macro avg       0.62      0.54      0.52     60625\n",
            "weighted avg       0.71      0.77      0.71     60625\n",
            "\n"
          ]
        }
      ],
      "source": [
        "from sklearn.metrics import accuracy_score, classification_report\n",
        "\n",
        "accuracy = accuracy_score(y_test, y_pred1)\n",
        "report = classification_report(y_test, y_pred1)\n",
        "\n",
        "print(f\"Accuracy: {accuracy}\")\n",
        "print(report)"
      ]
    },
    {
      "cell_type": "markdown",
      "metadata": {
        "id": "8IsBvW28_Ogn"
      },
      "source": [
        "ANN"
      ]
    },
    {
      "cell_type": "code",
      "execution_count": 38,
      "metadata": {
        "id": "BVPA0gCt_N88"
      },
      "outputs": [],
      "source": [
        "# Building ANN Model\n",
        "from tensorflow import keras\n",
        "\n",
        "model = keras.Sequential()\n",
        "model.add(keras.layers.Dense(units=64, activation='relu', input_dim=X_train.shape[1]))\n",
        "model.add(keras.layers.Dense(units=32, activation='relu'))\n",
        "model.add(keras.layers.Dense(units=1, activation='sigmoid'))\n"
      ]
    },
    {
      "cell_type": "code",
      "execution_count": 39,
      "metadata": {
        "id": "6eftJbZc_XRw"
      },
      "outputs": [],
      "source": [
        "# Compile model\n",
        "model.compile(loss='binary_crossentropy', optimizer='adam', metrics=['accuracy'])"
      ]
    },
    {
      "cell_type": "code",
      "execution_count": 40,
      "metadata": {
        "colab": {
          "base_uri": "https://localhost:8080/"
        },
        "id": "dJvQNvEXU2V0",
        "outputId": "1c190d7d-37fa-4b49-c93f-1f691efea222"
      },
      "outputs": [
        {
          "output_type": "stream",
          "name": "stdout",
          "text": [
            "Model: \"sequential\"\n",
            "_________________________________________________________________\n",
            " Layer (type)                Output Shape              Param #   \n",
            "=================================================================\n",
            " dense (Dense)               (None, 64)                1792      \n",
            "                                                                 \n",
            " dense_1 (Dense)             (None, 32)                2080      \n",
            "                                                                 \n",
            " dense_2 (Dense)             (None, 1)                 33        \n",
            "                                                                 \n",
            "=================================================================\n",
            "Total params: 3905 (15.25 KB)\n",
            "Trainable params: 3905 (15.25 KB)\n",
            "Non-trainable params: 0 (0.00 Byte)\n",
            "_________________________________________________________________\n"
          ]
        }
      ],
      "source": [
        "model.summary()"
      ]
    },
    {
      "cell_type": "code",
      "execution_count": 41,
      "metadata": {
        "colab": {
          "base_uri": "https://localhost:8080/"
        },
        "id": "jD62SSnf_cwZ",
        "outputId": "aa83fa14-7a9f-4f28-bed4-05b2aaf17663"
      },
      "outputs": [
        {
          "output_type": "stream",
          "name": "stdout",
          "text": [
            "Epoch 1/10\n",
            "8841/8841 [==============================] - 33s 3ms/step - loss: 0.0149 - accuracy: 0.9937\n",
            "Epoch 2/10\n",
            "8841/8841 [==============================] - 30s 3ms/step - loss: 9.6167e-05 - accuracy: 1.0000\n",
            "Epoch 3/10\n",
            "8841/8841 [==============================] - 28s 3ms/step - loss: 8.7552e-05 - accuracy: 1.0000\n",
            "Epoch 4/10\n",
            "8841/8841 [==============================] - 28s 3ms/step - loss: 5.5052e-08 - accuracy: 1.0000\n",
            "Epoch 5/10\n",
            "8841/8841 [==============================] - 27s 3ms/step - loss: 3.7242e-09 - accuracy: 1.0000\n",
            "Epoch 6/10\n",
            "8841/8841 [==============================] - 27s 3ms/step - loss: 5.3242e-05 - accuracy: 1.0000\n",
            "Epoch 7/10\n",
            "8841/8841 [==============================] - 27s 3ms/step - loss: 6.5370e-05 - accuracy: 1.0000\n",
            "Epoch 8/10\n",
            "8841/8841 [==============================] - 28s 3ms/step - loss: 6.9697e-08 - accuracy: 1.0000\n",
            "Epoch 9/10\n",
            "8841/8841 [==============================] - 27s 3ms/step - loss: 1.8213e-10 - accuracy: 1.0000\n",
            "Epoch 10/10\n",
            "8841/8841 [==============================] - 28s 3ms/step - loss: 7.3670e-11 - accuracy: 1.0000\n"
          ]
        },
        {
          "output_type": "execute_result",
          "data": {
            "text/plain": [
              "<keras.src.callbacks.History at 0x7e2d5b736650>"
            ]
          },
          "metadata": {},
          "execution_count": 41
        }
      ],
      "source": [
        "# Train the model\n",
        "model.fit(X_train, y_train, epochs=10, batch_size=32)"
      ]
    },
    {
      "cell_type": "code",
      "execution_count": 42,
      "metadata": {
        "colab": {
          "base_uri": "https://localhost:8080/"
        },
        "id": "Jhd4M45z_fAS",
        "outputId": "376a8957-3090-4ad1-b2f8-d003ab416054"
      },
      "outputs": [
        {
          "output_type": "stream",
          "name": "stdout",
          "text": [
            "1895/1895 [==============================] - 3s 2ms/step\n"
          ]
        }
      ],
      "source": [
        "y_pred2 = model.predict(X_test)"
      ]
    },
    {
      "cell_type": "code",
      "execution_count": 43,
      "metadata": {
        "colab": {
          "base_uri": "https://localhost:8080/"
        },
        "id": "pNr1g4wI_hxV",
        "outputId": "7c0556c5-9403-46e6-d25a-bc8c31fcb1c4"
      },
      "outputs": [
        {
          "output_type": "stream",
          "name": "stdout",
          "text": [
            "Accuracy: 1.0\n",
            "              precision    recall  f1-score   support\n",
            "\n",
            "           0       1.00      1.00      1.00     46842\n",
            "           1       1.00      1.00      1.00     13783\n",
            "\n",
            "    accuracy                           1.00     60625\n",
            "   macro avg       1.00      1.00      1.00     60625\n",
            "weighted avg       1.00      1.00      1.00     60625\n",
            "\n"
          ]
        }
      ],
      "source": [
        "# Evaluate the model\n",
        "\n",
        "from sklearn.metrics import accuracy_score, classification_report\n",
        "\n",
        "# Convert predictions to binary values if needed (e.g., for binary classification)\n",
        "y_pred_binary = (y_pred2 > 0.5).astype(int)\n",
        "\n",
        "accuracy = accuracy_score(y_test, y_pred_binary)\n",
        "report = classification_report(y_test, y_pred_binary)\n",
        "\n",
        "print(f\"Accuracy: {accuracy}\")\n",
        "print(report)"
      ]
    },
    {
      "cell_type": "markdown",
      "metadata": {
        "id": "eId2FvzN05uX"
      },
      "source": [
        "CNN"
      ]
    },
    {
      "cell_type": "code",
      "execution_count": 44,
      "metadata": {
        "colab": {
          "base_uri": "https://localhost:8080/"
        },
        "id": "ljgSQV44JECb",
        "outputId": "af3d782e-389f-4c28-95e0-a2662499064b"
      },
      "outputs": [
        {
          "output_type": "execute_result",
          "data": {
            "text/plain": [
              "(282912, 27)"
            ]
          },
          "metadata": {},
          "execution_count": 44
        }
      ],
      "source": [
        "X_train.shape"
      ]
    },
    {
      "cell_type": "code",
      "execution_count": 45,
      "metadata": {
        "colab": {
          "base_uri": "https://localhost:8080/"
        },
        "id": "7me0b6skJIec",
        "outputId": "924f93db-cfbe-4275-f251-5b84197d0e6c"
      },
      "outputs": [
        {
          "output_type": "execute_result",
          "data": {
            "text/plain": [
              "(60625, 27)"
            ]
          },
          "metadata": {},
          "execution_count": 45
        }
      ],
      "source": [
        "X_test.shape"
      ]
    },
    {
      "cell_type": "code",
      "execution_count": 46,
      "metadata": {
        "colab": {
          "base_uri": "https://localhost:8080/"
        },
        "id": "usjsD8jPMNou",
        "outputId": "d3ae4fdf-532c-45b0-f933-69f7509aa29f"
      },
      "outputs": [
        {
          "output_type": "execute_result",
          "data": {
            "text/plain": [
              "(282912,)"
            ]
          },
          "metadata": {},
          "execution_count": 46
        }
      ],
      "source": [
        "y_train.shape"
      ]
    },
    {
      "cell_type": "code",
      "execution_count": 47,
      "metadata": {
        "colab": {
          "base_uri": "https://localhost:8080/"
        },
        "id": "y6L0yDcUMTGk",
        "outputId": "89e24bd0-958f-4194-965d-eb5fce02c381"
      },
      "outputs": [
        {
          "output_type": "execute_result",
          "data": {
            "text/plain": [
              "(60625,)"
            ]
          },
          "metadata": {},
          "execution_count": 47
        }
      ],
      "source": [
        "y_test.shape"
      ]
    },
    {
      "cell_type": "code",
      "execution_count": 48,
      "metadata": {
        "id": "x80RamSAH0Ug"
      },
      "outputs": [],
      "source": [
        "# Reshape the data. It should be in 3D format\n",
        "X_train = X_train.reshape(X_train.shape[0], X_train.shape[1], 1)\n",
        "X_test = X_test.reshape(X_test.shape[0], X_test.shape[1], 1)"
      ]
    },
    {
      "cell_type": "code",
      "execution_count": 49,
      "metadata": {
        "id": "5Ptu44VnIYwe"
      },
      "outputs": [],
      "source": [
        "model = keras.Sequential()\n",
        "model.add(keras.layers.Conv1D(filters=32, kernel_size=3, activation='relu', input_shape=(27, 1)))\n",
        "model.add(keras.layers.MaxPooling1D(pool_size=2))\n",
        "model.add(keras.layers.Flatten())\n",
        "model.add(keras.layers.Dense(64, activation='relu'))\n",
        "model.add(keras.layers.Dense(2, activation='softmax'))"
      ]
    },
    {
      "cell_type": "code",
      "execution_count": 50,
      "metadata": {
        "id": "mBs4M5MfJaq7"
      },
      "outputs": [],
      "source": [
        "model.compile(loss='sparse_categorical_crossentropy', optimizer='adam', metrics=['accuracy'])"
      ]
    },
    {
      "cell_type": "code",
      "execution_count": 51,
      "metadata": {
        "colab": {
          "base_uri": "https://localhost:8080/"
        },
        "id": "wHMwAL-oRjd1",
        "outputId": "c5921085-d5dd-42bb-c5d7-d26ab0d5d8a1"
      },
      "outputs": [
        {
          "output_type": "stream",
          "name": "stdout",
          "text": [
            "Model: \"sequential_1\"\n",
            "_________________________________________________________________\n",
            " Layer (type)                Output Shape              Param #   \n",
            "=================================================================\n",
            " conv1d (Conv1D)             (None, 25, 32)            128       \n",
            "                                                                 \n",
            " max_pooling1d (MaxPooling1  (None, 12, 32)            0         \n",
            " D)                                                              \n",
            "                                                                 \n",
            " flatten (Flatten)           (None, 384)               0         \n",
            "                                                                 \n",
            " dense_3 (Dense)             (None, 64)                24640     \n",
            "                                                                 \n",
            " dense_4 (Dense)             (None, 2)                 130       \n",
            "                                                                 \n",
            "=================================================================\n",
            "Total params: 24898 (97.26 KB)\n",
            "Trainable params: 24898 (97.26 KB)\n",
            "Non-trainable params: 0 (0.00 Byte)\n",
            "_________________________________________________________________\n"
          ]
        }
      ],
      "source": [
        "# Print a summary of the model architecture.\n",
        "model.summary()"
      ]
    },
    {
      "cell_type": "code",
      "execution_count": 52,
      "metadata": {
        "colab": {
          "base_uri": "https://localhost:8080/"
        },
        "id": "jkFCzPBlJh0x",
        "outputId": "6663236e-ad3d-4bf2-c5f5-ba8d6b674130"
      },
      "outputs": [
        {
          "output_type": "stream",
          "name": "stdout",
          "text": [
            "Epoch 1/10\n",
            "8841/8841 [==============================] - 39s 4ms/step - loss: 0.0173 - accuracy: 0.9950 - val_loss: 711561314304.0000 - val_accuracy: 0.3113\n",
            "Epoch 2/10\n",
            "8841/8841 [==============================] - 35s 4ms/step - loss: 0.0041 - accuracy: 0.9996 - val_loss: 567257530368.0000 - val_accuracy: 0.6492\n",
            "Epoch 3/10\n",
            "8841/8841 [==============================] - 34s 4ms/step - loss: 0.0017 - accuracy: 0.9998 - val_loss: 911426781184.0000 - val_accuracy: 0.2986\n",
            "Epoch 4/10\n",
            "8841/8841 [==============================] - 34s 4ms/step - loss: 0.0031 - accuracy: 0.9998 - val_loss: 463208513536.0000 - val_accuracy: 0.6667\n",
            "Epoch 5/10\n",
            "8841/8841 [==============================] - 34s 4ms/step - loss: 3.5158e-04 - accuracy: 0.9999 - val_loss: 513546289152.0000 - val_accuracy: 0.3309\n",
            "Epoch 6/10\n",
            "8841/8841 [==============================] - 34s 4ms/step - loss: 7.7590e-04 - accuracy: 0.9999 - val_loss: 760843141120.0000 - val_accuracy: 0.6620\n",
            "Epoch 7/10\n",
            "8841/8841 [==============================] - 34s 4ms/step - loss: 1.0101e-04 - accuracy: 1.0000 - val_loss: 635014807552.0000 - val_accuracy: 0.4879\n",
            "Epoch 8/10\n",
            "8841/8841 [==============================] - 32s 4ms/step - loss: 0.0014 - accuracy: 1.0000 - val_loss: 595248414720.0000 - val_accuracy: 0.6496\n",
            "Epoch 9/10\n",
            "8841/8841 [==============================] - 33s 4ms/step - loss: 6.7433e-04 - accuracy: 0.9999 - val_loss: 805367447552.0000 - val_accuracy: 0.6433\n",
            "Epoch 10/10\n",
            "8841/8841 [==============================] - 34s 4ms/step - loss: 0.0013 - accuracy: 0.9999 - val_loss: 1218388164608.0000 - val_accuracy: 0.6410\n"
          ]
        }
      ],
      "source": [
        "history=model.fit(X_train, y_train, epochs=10, batch_size=32, validation_data=(X_val, y_val))"
      ]
    },
    {
      "cell_type": "code",
      "execution_count": 53,
      "metadata": {
        "colab": {
          "base_uri": "https://localhost:8080/",
          "height": 462
        },
        "id": "En-UMm6RnV02",
        "outputId": "36e618cf-827b-439b-ebd0-667202cb929f"
      },
      "outputs": [
        {
          "output_type": "execute_result",
          "data": {
            "text/plain": [
              "<matplotlib.legend.Legend at 0x7e2d4448c880>"
            ]
          },
          "metadata": {},
          "execution_count": 53
        },
        {
          "output_type": "display_data",
          "data": {
            "text/plain": [
              "<Figure size 640x480 with 1 Axes>"
            ],
            "image/png": "[encoded data removed]"
          },
          "metadata": {}
        }
      ],
      "source": [
        "#Plot a curve showing training loss vs validation loss\n",
        "plt.plot(history.history['loss'], label='Training loss')\n",
        "plt.plot(history.history['val_loss'], label='Validation loss')\n",
        "plt.legend()"
      ]
    },
    {
      "cell_type": "code",
      "execution_count": 54,
      "metadata": {
        "colab": {
          "base_uri": "https://localhost:8080/",
          "height": 564
        },
        "id": "eGGPuahTWNNq",
        "outputId": "db98b5c8-3b25-4195-f335-0242165b6126"
      },
      "outputs": [
        {
          "output_type": "display_data",
          "data": {
            "text/plain": [
              "<Figure size 1000x600 with 1 Axes>"
            ],
            "image/png": "[encoded data removed]"
          },
          "metadata": {}
        }
      ],
      "source": [
        "import matplotlib.pyplot as plt\n",
        "\n",
        "# Example data (replace with your actual data)\n",
        "epochs = [1, 2, 3, 4, 5, 6, 7, 8 ,9, 10]  # Number of epochs\n",
        "#training_accuracy = [0.6, 0.7, 0.75, 0.8, 0.85]  # Training accuracy values\n",
        "#validation_accuracy = [0.55, 0.65, 0.7, 0.75, 0.78]  # Validation accuracy values\n",
        "#epochs=10\n",
        "# Create a plot\n",
        "plt.figure(figsize=(10, 6))\n",
        "plt.plot(epochs, history.history['accuracy'], marker='o', label='Training Accuracy')\n",
        "plt.plot(epochs, history.history['val_accuracy'], marker='o', label='Validation Accuracy')\n",
        "\n",
        "# Add labels and a legend\n",
        "plt.title('Training and Validation Accuracy Over Epochs')\n",
        "plt.xlabel('Epochs')\n",
        "plt.ylabel('Accuracy')\n",
        "plt.legend()\n",
        "\n",
        "# Show the plot\n",
        "plt.grid(True)\n",
        "plt.show()\n"
      ]
    },
    {
      "cell_type": "code",
      "execution_count": 55,
      "metadata": {
        "id": "a7lUi7ntJl9B",
        "colab": {
          "base_uri": "https://localhost:8080/"
        },
        "outputId": "766d214f-7e7b-4e08-c579-a3f1b3361911"
      },
      "outputs": [
        {
          "output_type": "stream",
          "name": "stdout",
          "text": [
            "1895/1895 [==============================] - 5s 3ms/step - loss: 2.1834e-06 - accuracy: 1.0000\n",
            "Test accuracy: 1.0\n"
          ]
        }
      ],
      "source": [
        "test_loss, test_accuracy = model.evaluate(X_test, y_test)\n",
        "print(f\"Test accuracy: {test_accuracy}\")"
      ]
    },
    {
      "cell_type": "code",
      "execution_count": 56,
      "metadata": {
        "id": "z_9PGAs-Jq4N",
        "colab": {
          "base_uri": "https://localhost:8080/"
        },
        "outputId": "7bf9fb02-12d3-4d03-ebf0-fc7b9e6e0534"
      },
      "outputs": [
        {
          "output_type": "stream",
          "name": "stdout",
          "text": [
            "1895/1895 [==============================] - 4s 2ms/step\n"
          ]
        }
      ],
      "source": [
        "predictions = model.predict(X_test)"
      ]
    },
    {
      "cell_type": "code",
      "execution_count": 57,
      "metadata": {
        "id": "MgpKgOh7QPap",
        "colab": {
          "base_uri": "https://localhost:8080/"
        },
        "outputId": "dcea808d-24b9-4b91-c223-5bf7cfd1a9ea"
      },
      "outputs": [
        {
          "output_type": "stream",
          "name": "stdout",
          "text": [
            "Accuracy: 1.0\n",
            "              precision    recall  f1-score   support\n",
            "\n",
            "           0       1.00      1.00      1.00     46842\n",
            "           1       1.00      1.00      1.00     13783\n",
            "\n",
            "    accuracy                           1.00     60625\n",
            "   macro avg       1.00      1.00      1.00     60625\n",
            "weighted avg       1.00      1.00      1.00     60625\n",
            "\n"
          ]
        }
      ],
      "source": [
        "# Evaluate the model with additional metrics if needed\n",
        "from sklearn.metrics import classification_report\n",
        "\n",
        "# Assuming your labels are one-hot encoded, you may need to convert predictions to class labels\n",
        "predicted_classes = np.argmax(predictions, axis=1)\n",
        "\n",
        "# Convert one-hot encoded labels to class labels for comparison\n",
        "#true_classes = np.argmax(y_test)\n",
        "\n",
        "accuracy = accuracy_score(y_test, predicted_classes)\n",
        "print(f\"Accuracy: {accuracy}\")\n",
        "\n",
        "# Generate a classification report\n",
        "print(classification_report(y_test, predicted_classes))"
      ]
    },
    {
      "cell_type": "markdown",
      "metadata": {
        "id": "pSEj-oNxeO4p"
      },
      "source": [
        "ROC Curve of comparison"
      ]
    },
    {
      "cell_type": "code",
      "execution_count": 58,
      "metadata": {
        "id": "WLlMqH5GjDYY"
      },
      "outputs": [],
      "source": [
        "from sklearn.metrics import roc_curve\n",
        "\n",
        "#SVM\n",
        "# Assuming y_test contains true labels and y_pred contains predicted scores\n",
        "fpr1, tpr1, thresholds1 = roc_curve(y_test, y_pred)\n"
      ]
    },
    {
      "cell_type": "code",
      "execution_count": 59,
      "metadata": {
        "id": "d7Q2PCyBgkN4"
      },
      "outputs": [],
      "source": [
        "#Logistic Regression\n",
        "fpr2, tpr2, thresholds2 = roc_curve(y_test, y_pred1)"
      ]
    },
    {
      "cell_type": "code",
      "execution_count": 60,
      "metadata": {
        "id": "Z3L0EpwCgotz"
      },
      "outputs": [],
      "source": [
        "#ANN\n",
        "fpr3, tpr3, thresholds3 = roc_curve(y_test, y_pred_binary)"
      ]
    },
    {
      "cell_type": "code",
      "execution_count": 61,
      "metadata": {
        "id": "78xhLa3igsAK"
      },
      "outputs": [],
      "source": [
        "#CNN\n",
        "fpr4, tpr4, thresholds4 = roc_curve(y_test, predicted_classes)"
      ]
    },
    {
      "cell_type": "code",
      "execution_count": 65,
      "metadata": {
        "id": "G-8YAzaEjYcO",
        "colab": {
          "base_uri": "https://localhost:8080/",
          "height": 472
        },
        "outputId": "05a6b7a2-855a-439d-fe3b-4e1de208329f"
      },
      "outputs": [
        {
          "output_type": "display_data",
          "data": {
            "text/plain": [
              "<Figure size 640x480 with 1 Axes>"
            ],
            "image/png": "[encoded data removed]"
          },
          "metadata": {}
        }
      ],
      "source": [
        "import matplotlib.pyplot as plt\n",
        "\n",
        "# Plot individual ROC curves (replace with your data)\n",
        "plt.plot(fpr1, tpr1, label='SVM', color='blue')\n",
        "plt.plot(fpr2, tpr2, label='LR', color='red')\n",
        "plt.plot(fpr3, tpr3, linewidth=4, label='ANN', color='green')\n",
        "plt.plot(fpr4, tpr4, label='CNN', color='yellow')\n",
        "\n",
        "# Customize the plot\n",
        "plt.xlabel('False Positive Rate')\n",
        "plt.ylabel('True Positive Rate')\n",
        "plt.title('Comparison of ROC Curves')\n",
        "plt.legend()\n",
        "plt.show()\n"
      ]
    },
    {
      "cell_type": "code",
      "execution_count": 63,
      "metadata": {
        "id": "dGy9PRfljL94",
        "colab": {
          "base_uri": "https://localhost:8080/",
          "height": 87
        },
        "outputId": "a81cae62-6013-4b9c-8caf-99aa7ebb6cca"
      },
      "outputs": [
        {
          "output_type": "execute_result",
          "data": {
            "text/plain": [
              "'\\nimport matplotlib.pyplot as plt\\n\\nplt.figure(figsize=(8, 6))\\nplt.plot(fpr, tpr, label=\\'ROC curve (AUC = {:.2f})\\'.format(auc(fpr, tpr))) # You need to calculate AUC\\nplt.plot([0, 1], [0, 1], \\'k--\\')  # 45-degree line\\nplt.xlim([0.0, 1.0])\\nplt.ylim([0.0, 1.05])\\nplt.xlabel(\\'False Positive Rate\\')\\nplt.ylabel(\\'True Positive Rate\\')\\nplt.title(\\'Receiver Operating Characteristic (ROC) Curve\\')\\nplt.legend(loc=\"lower right\")\\nplt.show()\\n'"
            ],
            "application/vnd.google.colaboratory.intrinsic+json": {
              "type": "string"
            }
          },
          "metadata": {},
          "execution_count": 63
        }
      ],
      "source": [
        "'''\n",
        "import matplotlib.pyplot as plt\n",
        "\n",
        "plt.figure(figsize=(8, 6))\n",
        "plt.plot(fpr, tpr, label='ROC curve (AUC = {:.2f})'.format(auc(fpr, tpr))) # You need to calculate AUC\n",
        "plt.plot([0, 1], [0, 1], 'k--')  # 45-degree line\n",
        "plt.xlim([0.0, 1.0])\n",
        "plt.ylim([0.0, 1.05])\n",
        "plt.xlabel('False Positive Rate')\n",
        "plt.ylabel('True Positive Rate')\n",
        "plt.title('Receiver Operating Characteristic (ROC) Curve')\n",
        "plt.legend(loc=\"lower right\")\n",
        "plt.show()\n",
        "'''"
      ]
    },
    {
      "cell_type": "code",
      "execution_count": 64,
      "metadata": {
        "id": "58C0wc_kjbkZ",
        "colab": {
          "base_uri": "https://localhost:8080/",
          "height": 104
        },
        "outputId": "3b242431-1ba1-402e-bdad-6f5613436b2f"
      },
      "outputs": [
        {
          "output_type": "execute_result",
          "data": {
            "text/plain": [
              "'\\nfrom sklearn.metrics import roc_curve, auc\\nimport matplotlib.pyplot as plt\\nimport numpy as np\\n\\n# Generate random data for demonstration\\nnp.random.seed(42)\\ny_true = np.random.randint(0, 2, 100)\\ny_scores = np.random.rand(100)\\n\\nfpr, tpr, thresholds = roc_curve(y_true, y_scores)\\n\\nplt.figure(figsize=(8, 6))\\nplt.plot(fpr, tpr, label=\\'ROC curve (AUC = {:.2f})\\'.format(auc(fpr, tpr)))\\nplt.plot([0, 1], [0, 1], \\'k--\\')\\nplt.xlim([0.0, 1.0])\\nplt.ylim([0.0, 1.05])\\nplt.xlabel(\\'False Positive Rate\\')\\nplt.ylabel(\\'True Positive Rate\\')\\nplt.title(\\'Receiver Operating Characteristic (ROC) Curve\\')\\nplt.legend(loc=\"lower right\")\\nplt.show()\\n'"
            ],
            "application/vnd.google.colaboratory.intrinsic+json": {
              "type": "string"
            }
          },
          "metadata": {},
          "execution_count": 64
        }
      ],
      "source": [
        "#This is an example for plotting a ROC curve\n",
        "'''\n",
        "from sklearn.metrics import roc_curve, auc\n",
        "import matplotlib.pyplot as plt\n",
        "import numpy as np\n",
        "\n",
        "# Generate random data for demonstration\n",
        "np.random.seed(42)\n",
        "y_true = np.random.randint(0, 2, 100)\n",
        "y_scores = np.random.rand(100)\n",
        "\n",
        "fpr, tpr, thresholds = roc_curve(y_true, y_scores)\n",
        "\n",
        "plt.figure(figsize=(8, 6))\n",
        "plt.plot(fpr, tpr, label='ROC curve (AUC = {:.2f})'.format(auc(fpr, tpr)))\n",
        "plt.plot([0, 1], [0, 1], 'k--')\n",
        "plt.xlim([0.0, 1.0])\n",
        "plt.ylim([0.0, 1.05])\n",
        "plt.xlabel('False Positive Rate')\n",
        "plt.ylabel('True Positive Rate')\n",
        "plt.title('Receiver Operating Characteristic (ROC) Curve')\n",
        "plt.legend(loc=\"lower right\")\n",
        "plt.show()\n",
        "'''\n"
      ]
    }
  ],
  "metadata": {
    "accelerator": "GPU",
    "colab": {
      "provenance": []
    },
    "kernelspec": {
      "display_name": "Python 3",
      "name": "python3"
    },
    "language_info": {
      "name": "python"
    }
  },
  "nbformat": 4,
  "nbformat_minor": 0
}